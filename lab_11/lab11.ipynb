{
 "cells": [
  {
   "cell_type": "markdown",
   "metadata": {},
   "source": [
    "# **Лабораторная работа №11 по вычислительной математикe.**\n",
    "\n",
    "## Работу выполнил: Шурыгин Антон, Б01 - 909.\n",
    "\n",
    "### **Решение уравнения теплопроводности**"
   ]
  },
  {
   "cell_type": "markdown",
   "metadata": {},
   "source": [
    "#### В общем виде одномерное уравнение параболическое уравнение с граничными условиями первого рода и начальными условиями задается системой:\n",
    "\n",
    "$$\n",
    "\\begin{equation*}\n",
    " \\begin{cases}\n",
    "    \\frac{\\partial u}{\\partial t} = \\frac{\\partial}{\\partial x}( u \\cdot \\frac{\\partial u}{\\partial x}) , \\:\\:\\: 0 \\leq t \\leq 1, \\:\\:\\: 0 < x < 1\n",
    "    \\\\\n",
    "    u(x, 0) = \\varphi(x), \\:\\:\\: 0 < x < X\n",
    "    \\\\\n",
    "    u(0, t) = \\psi_{0}(t), \\:\\:\\: 0 < t \\leq T\n",
    "    \\\\\n",
    "    u(X, t) = \\psi_{X}(t), \\:\\:\\: 0 < t \\leq T\n",
    " \\end{cases}\n",
    "\\end{equation*}\n",
    "$$\n",
    "\n",
    "Данную задачу называют так же первой начально-краевой задачей для уравнения теплопроводности."
   ]
  },
  {
   "cell_type": "markdown",
   "metadata": {},
   "source": [
    "#### Преобразуем одномерное параболическое урпвнение:\n",
    "\n",
    "$$\n",
    "\\begin{equation*}\n",
    "    \\frac{\\partial u}{\\partial t} = \\frac{\\partial^{2} u}{\\partial x^{2}} + \\frac{\\partial u}{\\partial x}\n",
    "\\end{equation*}\n",
    "$$\n",
    "\n",
    "#### Нанесем на пространственно-временную область $0 \\leq x \\leq X, 0 \\leq t \\leq T$ конечно-разностную сетку $\\omega_{h \\tau}$:\n",
    "\n",
    "$$\n",
    "\\begin{equation*}\n",
    "    \\omega_{h \\tau}=\\left\\{x_m = mh, \\: m = \\overline{0, M}; \\:\\:\\: t^{k}=k\\tau, k = \\overline{0, K} \\right\\}\n",
    "\\end{equation*}\n",
    "$$\n",
    "\n",
    "Аппроксмириуем дифференциальные операторы отношением конечых разностей:\n",
    "\n",
    "$$\n",
    "\\begin{gathered}\n",
    "\\left.\\frac{\\partial u}{\\partial t}\\right|_{m} ^{k}=\\frac{u_{m}^{k+1}-u_{m}^{k}}{\\tau}+O(\\tau) \\\\\n",
    "\\left.\\frac{\\partial u}{\\partial x}\\right|_{m} ^{k}=\\frac{u_{m + 1}^{k}-u_{m}^{k}}{h}+O(h) \\\\\n",
    "\\left.\\frac{\\partial^{2} u}{\\partial x^{2}}\\right|_{m} ^{k}=\\frac{u_{m+1}^{k}-2 u_{m}^{k}+u_{m-1}^{k}}{h^{2}}+O\\left(h^{2}\\right) .\n",
    "\\end{gathered}\n",
    "$$\n",
    "\n",
    "#### Подставляем и выражаем $u_{m}^{k + 1}$:\n",
    "\n",
    "$$\n",
    "\\begin{equation*}\n",
    "    \\frac{u_{m}^{k+1}-u_{m}^{k}}{\\tau} = \\frac{u_{m + 1}^{k}-u_{m}^{k}}{h} + \\frac{u_{m+1}^{k}-2 u_{m}^{k}+u_{m-1}^{k}}{h^{2}}\n",
    "\\end{equation*}\n",
    "$$\n",
    "\n",
    "$$\n",
    "\\begin{equation*}\n",
    "    u_{m}^{k+1} = \\tau \\cdot( u_{m+1}^{k}(\\frac{1}{h^{2}} + \\frac{1}{h}) + u_{m}^{k}(\\frac{1}{\\tau} - \\frac{2}{h^{2}} - \\frac{1}{h}) + u_{m-1}^{k} \\frac{1}{h^{2}})\n",
    "\\end{equation*}\n",
    "$$\n",
    "\n",
    "Решим задачу из учебника Демченко:\n",
    "\n",
    "$$\n",
    "\\begin{equation*}\n",
    " \\begin{cases}\n",
    "    \\frac{\\partial u}{\\partial t} = \\frac{\\partial}{\\partial x}( u \\cdot \\frac{\\partial u}{\\partial x}) , \\:\\:\\: 0 \\leq t \\leq 1, \\:\\:\\: 0 < x < 1\n",
    "    \\\\\n",
    "    u(x, 0) = (1 + x)^{2}, \\:\\:\\: 0 \\leq x \\leq 1\n",
    "    \\\\\n",
    "    u(0, t) = \\frac{1}{7 - 6 \\cdot t}, \\:\\:\\: 0 < t \\leq 1\n",
    "    \\\\\n",
    "    u(1, t) = \\frac{4}{7 - 6 \\cdot t}, \\:\\:\\: 0 < t \\leq 1\n",
    " \\end{cases}\n",
    "\\end{equation*}\n",
    "$$"
   ]
  },
  {
   "cell_type": "code",
   "execution_count": 213,
   "metadata": {},
   "outputs": [],
   "source": [
    "import numpy as np\n",
    "from matplotlib import pyplot as plt\n",
    "from matplotlib import cm"
   ]
  },
  {
   "cell_type": "code",
   "execution_count": 214,
   "metadata": {},
   "outputs": [],
   "source": [
    "tau = 0.001\n",
    "h = 0.001\n",
    "\n",
    "T = X = 1\n",
    "\n",
    "x_steps = int(X / h)\n",
    "t_steps = int(T / tau)\n",
    "\n",
    "eps = 1e-5"
   ]
  },
  {
   "cell_type": "code",
   "execution_count": 215,
   "metadata": {},
   "outputs": [],
   "source": [
    "def phi(x):\n",
    "    return (1 + x) ** 2\n",
    "\n",
    "def psi_0(t):\n",
    "    return 1 / (7 - 6*t)\n",
    "\n",
    "def psi_X(t):\n",
    "    return 4 / (7 - 6*t)"
   ]
  },
  {
   "cell_type": "code",
   "execution_count": 216,
   "metadata": {},
   "outputs": [],
   "source": [
    "def init_grid(cur_t_layer, prev_t_layer, averrgs):\n",
    "  size = x_steps - 2\n",
    "  matr = np.zeros((size, size), dtype = float)\n",
    "\n",
    "  for i in range(size):\n",
    "    matr[i][i] = - (averrgs[i + 1] + averrgs[i]) / h**2 - 1 / tau \n",
    "    \n",
    "    if i > 0:\n",
    "      matr[i][i - 1] = averrgs[i] / h**2\n",
    "    if i < size - 1:\n",
    "      matr[i][i + 1] = averrgs[i + 1] / h**2\n",
    "\n",
    "  f = np.array([-prev_t_layer[i + 1] / tau for i in range(size)])\n",
    "  \n",
    "  f[0] = f[0] - averrgs[0] * cur_t_layer[0] / h**2\n",
    "  f[-1] = f[-1] - averrgs[-1] * cur_t_layer[-1] / h**2\n",
    "\n",
    "  sol = np.linalg.solve(matr, f)\n",
    "  u = cur_t_layer.copy()\n",
    "  \n",
    "  for i in range(size):\n",
    "    u[i + 1] = sol[i]\n",
    "\n",
    "  return u"
   ]
  },
  {
   "cell_type": "code",
   "execution_count": 217,
   "metadata": {},
   "outputs": [],
   "source": [
    "def solve_eq(cur_t_layer, prev_t_layer):\n",
    "    averrgs = np.array([(prev_t_layer[T - 1] + prev_t_layer[t]) / 2 for t in range(1, len(prev_t_layer))])\n",
    "    u = prev_t_layer\n",
    "\n",
    "    is_greater = True\n",
    "\n",
    "    while is_greater:\n",
    "        data = init_grid(cur_t_layer, prev_t_layer, averrgs)\n",
    "\n",
    "        averrgs = np.array([(u[t + 1] + (data[t + 1] - u[t + 1]) + \n",
    "                             u[t] + (data[t] - u[t])) / 2 \n",
    "                             for t in range(len(prev_t_layer) - 1)])\n",
    "\n",
    "        accuracy = np.linalg.norm(data - u)\n",
    "        is_greater = accuracy > eps\n",
    "        u = data\n",
    "    \n",
    "    return data\n",
    "\n",
    "def plot(u):\n",
    "    x = np.arange(start=0, stop=X, step=h)\n",
    "    t = np.arange(start=0, stop=T, step=tau)\n",
    "    \n",
    "    x, t = np.meshgrid(x, t)\n",
    "\n",
    "    fig = plt.figure(figsize=(16, 16))\n",
    "    graph = plt.axes(projection='3d')\n",
    "\n",
    "    surf = graph.plot_surface(x, t, u, cmap=cm.plasma)\n",
    "    graph.set_xlabel(\"x\", fontsize=20)\n",
    "    graph.set_ylabel(\"t\", fontsize=20)\n",
    "\n",
    "    graph.set_zlabel(\"u(x, t)\", fontsize=20)\n",
    "\n",
    "    fig.colorbar(surf, shrink=0.5)\n",
    "\n",
    "    plt.grid()\n",
    "    plt.show()\n",
    "\n",
    "\n",
    "def plot_t(u):\n",
    "    x = np.arange(start=0, stop=X, step=h)\n",
    "    plt.figure(figsize=[12, 8])\n",
    "    plt.grid()\n",
    "    plt.ylabel('u')\n",
    "    plt.xlabel('x')\n",
    "    plt.plot(x, u)\n",
    "    plt.show()"
   ]
  },
  {
   "cell_type": "code",
   "execution_count": 218,
   "metadata": {},
   "outputs": [],
   "source": [
    "def init():\n",
    "    x = np.arange(start=0, stop=X, step=h)\n",
    "    t = np.arange(start=0, stop=T, step=tau)\n",
    "\n",
    "    u = np.zeros((x_steps, t_steps), dtype = float)\n",
    "\n",
    "    for x_i in range(x_steps):\n",
    "        u[0][x_i] = phi(x[x_i])\n",
    "    \n",
    "    for t_i in range(t_steps):\n",
    "        u[t_i][0] = psi_0(t[t_i])\n",
    "        u[t_i][-1] = psi_X(t[t_i])\n",
    "\n",
    "    return u"
   ]
  },
  {
   "cell_type": "code",
   "execution_count": 219,
   "metadata": {},
   "outputs": [],
   "source": [
    "u = init()\n",
    "\n",
    "for t_lay in range(1, t_steps):\n",
    "    u[t_lay] = solve_eq(u[t_lay], u[t_lay - 1])\n",
    "\n",
    "plot(u)"
   ]
  },
  {
   "cell_type": "code",
   "execution_count": null,
   "metadata": {},
   "outputs": [
    {
     "data": {
      "image/png": "[encoded data removed]",
      "text/plain": [
       "<Figure size 864x576 with 1 Axes>"
      ]
     },
     "metadata": {
      "needs_background": "light"
     },
     "output_type": "display_data"
    },
    {
     "name": "stdout",
     "output_type": "stream",
     "text": [
      "[0.97087379 1.16438328 1.36977717 1.58842526 1.82110188 2.06825432\n",
      " 2.33014606 2.60693168 2.89869829 3.20549277 3.52734858 3.86432803]\n"
     ]
    }
   ],
   "source": [
    "plot_t(u[t_steps - 1])\n",
    "print(u[t_steps - 1, ::int(((X) / h) / 11)])"
   ]
  }
 ],
 "metadata": {
  "interpreter": {
   "hash": "31f2aee4e71d21fbe5cf8b01ff0e069b9275f58929596ceb00d14d90e3e16cd6"
  },
  "kernelspec": {
   "display_name": "Python 3.8.10 64-bit",
   "language": "python",
   "name": "python3"
  },
  "language_info": {
   "codemirror_mode": {
    "name": "ipython",
    "version": 3
   },
   "file_extension": ".py",
   "mimetype": "text/x-python",
   "name": "python",
   "nbconvert_exporter": "python",
   "pygments_lexer": "ipython3",
   "version": "3.8.10"
  },
  "orig_nbformat": 4
 },
 "nbformat": 4,
 "nbformat_minor": 2
}
