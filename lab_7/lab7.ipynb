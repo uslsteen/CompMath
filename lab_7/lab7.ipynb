{
 "cells": [
  {
   "cell_type": "markdown",
   "metadata": {},
   "source": [
    "# **Лабораторная работа №6 по вычислительной математикe.**\n",
    "\n",
    "## Работу выполнил: Шурыгин Антон, Б01 - 909.\n",
    "\n",
    "### **X.9.13**"
   ]
  },
  {
   "cell_type": "markdown",
   "metadata": {},
   "source": [
    "#### Численность двух популяций заивисит от взаимодействия между ними и двух медленно меняющихся генетических признаков:\n",
    "\n",
    "$$\n",
    "\\dot x = x(2\\alpha_1 + 0,5x - \\alpha_1^{2}\\alpha_2^{-2}y)\n",
    "\\\\\n",
    "\\dot y = y(2\\alpha_2 + 0,5y - \\alpha_1^{-2}\\alpha_2^{2}x)\n",
    "\\\\\n",
    "\\dot \\alpha_1 = \\varepsilon(2 - 2 \\alpha_1 \\alpha_2^{-2}y)\n",
    "\\\\\n",
    "\\dot \\alpha_2 = \\varepsilon(2 - 2 \\alpha_1^{-2} \\alpha_2x)\n",
    "\\\\\n",
    "$$\n",
    "\n",
    "#### Причем параметры задачи таковы, что:\n",
    "$$\n",
    "\\varepsilon \\leq 0.01, \\:\\:\\: 0 \\leq x_0 \\leq 40, \\:\\:\\: 0 \\leq y_0 \\leq 40, \\:\\:\\: \\alpha_{10} \\ll 1, \\:\\:\\:, \\alpha_{20} = 10\n",
    "$$"
   ]
  },
  {
   "cell_type": "code",
   "execution_count": 202,
   "metadata": {},
   "outputs": [],
   "source": [
    "import numpy as np\n",
    "import sympy as sp\n",
    "import matplotlib.pyplot as plt\n",
    "from sympy import Matrix"
   ]
  },
  {
   "cell_type": "markdown",
   "metadata": {},
   "source": [
    "#### Рассмотрим задачу Коши для жесткой системы обыкновенной дифференциальных уравнений:\n",
    "\n",
    "$$\n",
    "u' = f(u)\n",
    "\\\\\n",
    "u(t_0) = u_0\n",
    "$$\n",
    "\n",
    "где u, f(u) - вещественные четырехмерные (в общем случае n-мерные) вектор-функции\n",
    "\n",
    "#### Рассмотрим численную формулу вида:\n",
    "\n",
    "$$\n",
    "u_{n+1} = u_n + p_1 k_1 + p_2 k_2 + p_3 k_3\n",
    "\\\\\n",
    "D_n k_1 = h f(u_n)\n",
    "\\\\\n",
    "D_n k_2 = h f(u_n + b_{21} k_1)\n",
    "\\\\\n",
    "D_n k_3 = h f(u_n + b_{31} k_1 + b_{32} k_2)\n",
    "$$"
   ]
  },
  {
   "cell_type": "markdown",
   "metadata": {},
   "source": [
    "#### Определим константы отвечающие начальным условиям и трехстадийному методу Розенброка"
   ]
  },
  {
   "cell_type": "code",
   "execution_count": 228,
   "metadata": {},
   "outputs": [],
   "source": [
    "eps = 0.01\n",
    "\n",
    "x0 = 0.1\n",
    "y0 = 0.1\n",
    "a10 = 0.01\n",
    "a20 = 10\n",
    "\n",
    "p1 = 0.43687\n",
    "p2 = 0.47824\n",
    "p3 = 0.08589\n",
    "a = 0.43687\n",
    "b21 = 0.43687\n",
    "b31 = 0.43687\n",
    "b32 = -2.11605\n",
    "\n",
    "Tk = 2000\n",
    "\n",
    "h = 0.001"
   ]
  },
  {
   "cell_type": "code",
   "execution_count": 219,
   "metadata": {},
   "outputs": [
    {
     "data": {
      "text/latex": [
       "$\\displaystyle \\left[\\begin{matrix}- \\frac{a_{1}^{2} y}{a_{2}^{2}} + 2 a_{1} - 1.0 x & - \\frac{a_{1}^{2} x}{a_{2}^{2}} & x \\left(- \\frac{2 a_{1} y}{a_{2}^{2}} + 2\\right) & \\frac{2 a_{1}^{2} x y}{a_{2}^{3}}\\\\2 a_{2} - 0.5 y - \\frac{2 a_{2}^{2} x}{a_{1}^{2}} & - 0.5 x & \\frac{2 a_{2}^{2} x^{2}}{a_{1}^{3}} & x \\left(2 - \\frac{2 a_{2} x}{a_{1}^{2}}\\right)\\\\0 & - \\frac{0.02 a_{1}}{a_{2}^{2}} & - \\frac{0.02 y}{a_{2}^{2}} & \\frac{0.04 a_{1} y}{a_{2}^{3}}\\\\- \\frac{0.02 a_{2}}{a_{1}^{2}} & 0 & \\frac{0.04 a_{2} x}{a_{1}^{3}} & - \\frac{0.02 x}{a_{1}^{2}}\\end{matrix}\\right]$"
      ],
      "text/plain": [
       "Matrix([\n",
       "[ -a1**2*y/a2**2 + 2*a1 - 1.0*x, -a1**2*x/a2**2, x*(-2*a1*y/a2**2 + 2),    2*a1**2*x*y/a2**3],\n",
       "[2*a2 - 0.5*y - 2*a2**2*x/a1**2,         -0.5*x,    2*a2**2*x**2/a1**3, x*(2 - 2*a2*x/a1**2)],\n",
       "[                             0, -0.02*a1/a2**2,         -0.02*y/a2**2,      0.04*a1*y/a2**3],\n",
       "[                -0.02*a2/a1**2,              0,       0.04*a2*x/a1**3,        -0.02*x/a1**2]])"
      ]
     },
     "execution_count": 219,
     "metadata": {},
     "output_type": "execute_result"
    }
   ],
   "source": [
    "x = sp.Symbol('x')\n",
    "y = sp.Symbol('y')\n",
    "a1 = sp.Symbol('a1')\n",
    "a2 = sp.Symbol('a2') \n",
    "\n",
    "diff_eqs1 = {\"f1\" : x*(2*a1 - 0.5*x - y * (a1 ** 2) * (a2 ** (-2))), \n",
    "            \"f2\" : x*(2*a2 - 0.5*y - x * (a2 ** 2) * (a1 ** (-2))),\n",
    "            \"f3\" : eps*(2 - 2 * y * a1 * a2 ** (-2)),\n",
    "            \"f4\" : eps*(2 - 2 * x * a2 * a1 ** (-2))\n",
    "            }\n",
    "\n",
    "X1 = Matrix([diff_eqs1[\"f1\"], diff_eqs1[\"f2\"], diff_eqs1[\"f3\"], diff_eqs1[\"f4\"]])\n",
    "Y1 = Matrix([x, y, a1, a2])\n",
    "\n",
    "J1 = X1.jacobian(Y1)\n",
    "J1"
   ]
  },
  {
   "cell_type": "code",
   "execution_count": 220,
   "metadata": {},
   "outputs": [],
   "source": [
    "def jacbn(j_matr, u_k):\n",
    "    jacob = np.array(j_matr.subs({x : u_k[0], y : u_k[1], a1 : u_k[2], a2 : u_k[3]}))\n",
    "    \n",
    "    return np.array([   [float(jacob[0][0]),\n",
    "                        float(jacob[0][1]),\n",
    "                        float(jacob[0][2]),\n",
    "                        float(jacob[0][3])],\n",
    "\n",
    "                        [float(jacob[1][0]),\n",
    "                        float(jacob[1][1]),\n",
    "                        float(jacob[1][2]),\n",
    "                        float(jacob[1][3])],\n",
    "\n",
    "                        [float(jacob[2][0]),\n",
    "                        float(jacob[2][1]),\n",
    "                        float(jacob[2][2]),\n",
    "                        float(jacob[2][3])],\n",
    "\n",
    "                        [float(jacob[3][0]),\n",
    "                        float(jacob[3][1]),\n",
    "                        float(jacob[3][2]),\n",
    "                        float(jacob[3][3])]\n",
    "                    ])\n",
    "\n",
    "\n",
    "def f(diff_eqs, u_k):\n",
    "    return np.array([float(diff_eqs[\"f1\"].subs({x : u_k[0], y : u_k[1], a1 : u_k[2], a2 : u_k[3]})),\n",
    "                     float(diff_eqs[\"f2\"].subs({x : u_k[0], y : u_k[1], a1 : u_k[2], a2 : u_k[3]})),\n",
    "                     float(diff_eqs[\"f3\"].subs({x : u_k[0], y : u_k[1], a1 : u_k[2], a2 : u_k[3]})),\n",
    "                     float(diff_eqs[\"f4\"].subs({x : u_k[0], y : u_k[1], a1 : u_k[2], a2 : u_k[3]}))])\n"
   ]
  },
  {
   "cell_type": "markdown",
   "metadata": {},
   "source": [
    "#### Решаем систему уравнений"
   ]
  },
  {
   "cell_type": "code",
   "execution_count": 225,
   "metadata": {},
   "outputs": [],
   "source": [
    "def Rosenbrock3(diff_eqs, j_matr, u0, step):\n",
    "\n",
    "    t_arr = np.linspace(0, Tk, int(Tk / step))\n",
    "    sol = []\n",
    "    u_n = u0\n",
    "\n",
    "    for t_n in t_arr:\n",
    "        Dn = np.eye(4) + a * step * jacbn(j_matr, u_n)\n",
    "\n",
    "        d1 = step*f(diff_eqs, u_n)\n",
    "        k1 = np.linalg.solve(Dn, d1)\n",
    "\n",
    "        d2 = step*f(diff_eqs, u_n + b21 * k1)\n",
    "        k2 = np.linalg.solve(Dn, d2)\n",
    "\n",
    "        d3 = step*f(diff_eqs, u_n + b31 * k1 + b32 * k2)\n",
    "        k3 = np.linalg.solve(Dn, d3)\n",
    "\n",
    "        u_n_1 = u_n + p1 * k1 + p2 * k2 + p3 * k3\n",
    "        sol.append(u_n_1)\n",
    "\n",
    "        u_n = u_n_1\n",
    "\n",
    "    print(f\"РЕЗУЛЬТАТ ИНТЕГРИРОВАНИЯ\")\n",
    "    print(np.array(sol).T)\n",
    "\n",
    "    return np.array(sol).T, t_arr\n"
   ]
  },
  {
   "cell_type": "markdown",
   "metadata": {},
   "source": [
    "#### Визуализируем результат"
   ]
  },
  {
   "cell_type": "code",
   "execution_count": 226,
   "metadata": {},
   "outputs": [],
   "source": [
    "def genetic_model_plot(u, t_arr):\n",
    "    \n",
    "    plt.figure(figsize=[16, 8])\n",
    "\n",
    "    plt.plot(t_arr, u[0], color='b', label='x')\n",
    "    plt.plot(t_arr, u[1], color='r', linestyle='--', label='y')\n",
    "    plt.plot(t_arr, u[2], color='c', linestyle=':', label='a1')\n",
    "    plt.plot(t_arr, u[3], color='g', linestyle='-.', label='a2')\n",
    "\n",
    "    plt.title(f\"Решение для экогенетической модели\")\n",
    "\n",
    "    plt.xlabel(\"t\")\n",
    "    plt.ylabel(\"u\")\n",
    "\n",
    "    plt.legend()\n",
    "    plt.show()"
   ]
  },
  {
   "cell_type": "code",
   "execution_count": 227,
   "metadata": {},
   "outputs": [
    {
     "name": "stdout",
     "output_type": "stream",
     "text": [
      "Начальный вектор [0.1, 0.1, 0.01, 10]\n",
      "Значение Tk=20\n",
      "Шаг=0.001\n",
      "РЕЗУЛЬТАТ ИНТЕГРИРОВАНИЯ\n",
      "[[ 9.99969950e-02  9.99939954e-02  9.99910011e-02 ...             nan\n",
      "              nan             nan]\n",
      " [-1.00747792e+01 -1.98019607e+01 -2.91028059e+01 ...             nan\n",
      "              nan             nan]\n",
      " [ 1.00200126e-02  1.00400461e-02  1.00601014e-02 ...             nan\n",
      "              nan             nan]\n",
      " [ 9.79801802e+00  9.60091804e+00  9.40856523e+00 ...             nan\n",
      "              nan             nan]]\n"
     ]
    },
    {
     "data": {
      "image/png": "[encoded data removed]",
      "text/plain": [
       "<Figure size 1152x576 with 1 Axes>"
      ]
     },
     "metadata": {
      "needs_background": "light"
     },
     "output_type": "display_data"
    }
   ],
   "source": [
    "cur_step = 0.001\n",
    "u0 = [x0, y0, a10, a20]\n",
    "print(f\"Начальный вектор {u0}\")\n",
    "print(f\"Значение Tk={Tk}\")\n",
    "print(f\"Шаг={cur_step}\")\n",
    "\n",
    "sol, t_arr = Rosenbrock3(diff_eqs1, J1, u0, step=cur_step)\n",
    "genetic_model_plot(sol, t_arr)"
   ]
  },
  {
   "cell_type": "markdown",
   "metadata": {},
   "source": [
    "#### Численность двух популяций заивисит от взаимодействия между ними и двух медленно меняющихся генетических признаков:\n",
    "\n",
    "$$\n",
    "\\dot x = x(2\\alpha_1 - 0,5x - \\alpha_1^{3}\\alpha_2^{-3}y)\n",
    "\\\\\n",
    "\\dot y = y(2\\alpha_2 - 0,5y - \\alpha_1^{-3}\\alpha_2^{3}x)\n",
    "\\\\\n",
    "\\dot \\alpha_1 = \\varepsilon(2 - 3 \\alpha_1^{2} \\alpha_2^{-3}y)\n",
    "\\\\\n",
    "\\dot \\alpha_2 = \\varepsilon(2 - 2 \\alpha_1^{-3} \\alpha_2^{2} x)\n",
    "\\\\\n",
    "$$\n",
    "\n",
    "#### Причем параметры задачи таковы, что:\n",
    "$$\n",
    "\\varepsilon \\leq 0.01, \\:\\:\\: 0 \\leq x_0 \\leq 40, \\:\\:\\: 0 \\leq y_0 \\leq 40, \\:\\:\\: \\alpha_{10} \\ll 1, \\:\\:\\:, \\alpha_{20} = 10"
   ]
  },
  {
   "cell_type": "code",
   "execution_count": null,
   "metadata": {},
   "outputs": [
    {
     "data": {
      "text/latex": [
       "$\\displaystyle \\left[\\begin{matrix}- \\frac{a_{1}^{2} y}{a_{2}^{2}} + 2 a_{1} - 1.0 x & - \\frac{a_{1}^{2} x}{a_{2}^{2}} & x \\left(- \\frac{2 a_{1} y}{a_{2}^{2}} + 2\\right) & \\frac{2 a_{1}^{2} x y}{a_{2}^{3}}\\\\2 a_{2} - 0.5 y - \\frac{2 a_{2}^{2} x}{a_{1}^{2}} & - 0.5 x & \\frac{2 a_{2}^{2} x^{2}}{a_{1}^{3}} & x \\left(2 - \\frac{2 a_{2} x}{a_{1}^{2}}\\right)\\\\0 & - \\frac{0.02 a_{1}}{a_{2}^{2}} & - \\frac{0.02 y}{a_{2}^{2}} & \\frac{0.04 a_{1} y}{a_{2}^{3}}\\\\- \\frac{0.02 a_{2}}{a_{1}^{2}} & 0 & \\frac{0.04 a_{2} x}{a_{1}^{3}} & - \\frac{0.02 x}{a_{1}^{2}}\\end{matrix}\\right]$"
      ],
      "text/plain": [
       "Matrix([\n",
       "[ -a1**2*y/a2**2 + 2*a1 - 1.0*x, -a1**2*x/a2**2, x*(-2*a1*y/a2**2 + 2),    2*a1**2*x*y/a2**3],\n",
       "[2*a2 - 0.5*y - 2*a2**2*x/a1**2,         -0.5*x,    2*a2**2*x**2/a1**3, x*(2 - 2*a2*x/a1**2)],\n",
       "[                             0, -0.02*a1/a2**2,         -0.02*y/a2**2,      0.04*a1*y/a2**3],\n",
       "[                -0.02*a2/a1**2,              0,       0.04*a2*x/a1**3,        -0.02*x/a1**2]])"
      ]
     },
     "execution_count": 173,
     "metadata": {},
     "output_type": "execute_result"
    }
   ],
   "source": [
    "diff_eqs2 = {\"f1\" : x*(2*a1 - 0.5*x - y * (a1 ** 3) * (a2 ** (-3))), \n",
    "            \"f2\" : x*(2*a2 - 0.5*y - x * (a2 ** 3) * (a1 ** (-3))),\n",
    "            \"f3\" : eps*(2 - 3 * y * a1 ** (2) * a2 ** (-3)),\n",
    "            \"f4\" : eps*(2 - 3 * x * a2 ** (2) * a1 ** (-3))\n",
    "            }\n",
    "\n",
    "X2 = Matrix([diff_eqs1[\"f1\"], diff_eqs1[\"f2\"], diff_eqs1[\"f3\"], diff_eqs1[\"f4\"]])\n",
    "Y2 = Matrix([x, y, a1, a2])\n",
    "\n",
    "J2 = X2.jacobian(Y2)\n",
    "J2"
   ]
  },
  {
   "cell_type": "code",
   "execution_count": 229,
   "metadata": {},
   "outputs": [
    {
     "name": "stdout",
     "output_type": "stream",
     "text": [
      "Начальный вектор [0.1, 0.1, 0.01, 10]\n",
      "Значение Tk=2000\n",
      "Шаг=0.1\n"
     ]
    }
   ],
   "source": [
    "cur_step = 0.1\n",
    "u0 = [x0, y0, a10, a20]\n",
    "print(f\"Начальный вектор {u0}\")\n",
    "print(f\"Значение Tk={Tk}\")\n",
    "print(f\"Шаг={cur_step}\")\n",
    "\n",
    "sol, t_arr = Rosenbrock3(diff_eqs2, J2, u0, step=cur_step)\n",
    "genetic_model_plot(sol, t_arr)"
   ]
  }
 ],
 "metadata": {
  "interpreter": {
   "hash": "31f2aee4e71d21fbe5cf8b01ff0e069b9275f58929596ceb00d14d90e3e16cd6"
  },
  "kernelspec": {
   "display_name": "Python 3.8.10 64-bit",
   "language": "python",
   "name": "python3"
  },
  "language_info": {
   "codemirror_mode": {
    "name": "ipython",
    "version": 3
   },
   "file_extension": ".py",
   "mimetype": "text/x-python",
   "name": "python",
   "nbconvert_exporter": "python",
   "pygments_lexer": "ipython3",
   "version": "3.8.10"
  },
  "orig_nbformat": 4
 },
 "nbformat": 4,
 "nbformat_minor": 2
}
