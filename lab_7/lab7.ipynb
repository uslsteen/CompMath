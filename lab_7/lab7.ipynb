{
 "cells": [
  {
   "cell_type": "markdown",
   "metadata": {},
   "source": [
    "# **Лабораторная работа №6 по вычислительной математикe.**\n",
    "\n",
    "## Работу выполнил: Шурыгин Антон, Б01 - 909.\n",
    "\n",
    "### **X.9.13**"
   ]
  },
  {
   "cell_type": "markdown",
   "metadata": {},
   "source": [
    "#### Численность двух популяций заивисит от взаимодействия между ними и двух медленно меняющихся генетических признаков:\n",
    "\n",
    "$$\n",
    "\\dot x = x(2\\alpha_1 + 0,5x - \\alpha_1^{2}\\alpha_2^{-2}y)\n",
    "\\\\\n",
    "\\dot y = y(2\\alpha_2 + 0,5y - \\alpha_1^{-2}\\alpha_2^{2}x)\n",
    "\\\\\n",
    "\\dot \\alpha_1 = \\varepsilon(2 - 2 \\alpha_1 \\alpha_2^{-2}y)\n",
    "\\\\\n",
    "\\dot \\alpha_2 = \\varepsilon(2 - 2 \\alpha_1^{-2} \\alpha_2x)\n",
    "\\\\\n",
    "$$\n",
    "\n",
    "#### Причем параметры задачи таковы, что:\n",
    "$$\n",
    "\\varepsilon \\leq 0.01, \\:\\:\\: 0 \\leq x_0 \\leq 40, \\:\\:\\: 0 \\leq y_0 \\leq 40, \\:\\:\\: \\alpha_{10} \\ll 1, \\:\\:\\:, \\alpha_{20} = 10\n",
    "$$"
   ]
  },
  {
   "cell_type": "code",
   "execution_count": 10,
   "metadata": {},
   "outputs": [],
   "source": [
    "import numpy as np\n",
    "import sympy as sp\n",
    "import matplotlib.pyplot as plt\n",
    "from sympy import Matrix"
   ]
  },
  {
   "cell_type": "markdown",
   "metadata": {},
   "source": [
    "#### Рассмотрим задачу Коши для жесткой системы обыкновенной дифференциальных уравнений:\n",
    "\n",
    "$$\n",
    "y' = f(y)\n",
    "\\\\\n",
    "y(t_0) = y_0\n",
    "$$\n",
    "\n",
    "#### Рассмотрим численную формулу вида:\n",
    "\n",
    "$$\n",
    "y_{n+1} = y_n + p_1 k_1 + p_2 k_2 + p_3 k_3\n",
    "\\\\\n",
    "D_n k_1 = h f(y_n)\n",
    "\\\\\n",
    "D_n k_2 = h f(y_n + b_{21} k_1)\n",
    "\\\\\n",
    "D_n k_3 = h f(y_n + b_{31} k_1 + b_{32} k_2)\n",
    "$$"
   ]
  },
  {
   "cell_type": "markdown",
   "metadata": {},
   "source": [
    "#### Определим константы отвечающие начальным условиям и трехстадийному методу Розенброка"
   ]
  },
  {
   "cell_type": "code",
   "execution_count": 11,
   "metadata": {},
   "outputs": [],
   "source": [
    "eps = 0.01\n",
    "\n",
    "x0 = 0.01\n",
    "y0 = 0.01\n",
    "a10 = 0.01\n",
    "a20 = 10\n",
    "\n",
    "p1 = a = b21 = b31 = 0.435866\n",
    "p2 = 0.478240 \n",
    "p3 = 0.085892\n",
    "\n",
    "Tk = 2000\n",
    "\n",
    "b21 = b31 = 0.435866\n",
    "b32 = -2.116053\n",
    "\n",
    "h = 0.001"
   ]
  },
  {
   "cell_type": "code",
   "execution_count": 12,
   "metadata": {},
   "outputs": [
    {
     "data": {
      "text/latex": [
       "$\\displaystyle \\left[\\begin{matrix}- \\frac{a_{1}^{2} y}{a_{2}^{2}} + 2 a_{1} + 1.0 x & - \\frac{a_{1}^{2} x}{a_{2}^{2}} & x \\left(- \\frac{2 a_{1} y}{a_{2}^{2}} + 2\\right) & \\frac{2 a_{1}^{2} x y}{a_{2}^{3}}\\\\2 a_{2} + 0.5 y - \\frac{2 a_{2}^{2} x}{a_{1}^{2}} & 0.5 x & \\frac{2 a_{2}^{2} x^{2}}{a_{1}^{3}} & x \\left(2 - \\frac{2 a_{2} x}{a_{1}^{2}}\\right)\\\\0 & - \\frac{0.02 a_{1}}{a_{2}^{2}} & - \\frac{0.02 y}{a_{2}^{2}} & \\frac{0.04 a_{1} y}{a_{2}^{3}}\\\\- \\frac{0.02 a_{2}}{a_{1}^{2}} & 0 & \\frac{0.04 a_{2} x}{a_{1}^{3}} & - \\frac{0.02 x}{a_{1}^{2}}\\end{matrix}\\right]$"
      ],
      "text/plain": [
       "Matrix([\n",
       "[ -a1**2*y/a2**2 + 2*a1 + 1.0*x, -a1**2*x/a2**2, x*(-2*a1*y/a2**2 + 2),    2*a1**2*x*y/a2**3],\n",
       "[2*a2 + 0.5*y - 2*a2**2*x/a1**2,          0.5*x,    2*a2**2*x**2/a1**3, x*(2 - 2*a2*x/a1**2)],\n",
       "[                             0, -0.02*a1/a2**2,         -0.02*y/a2**2,      0.04*a1*y/a2**3],\n",
       "[                -0.02*a2/a1**2,              0,       0.04*a2*x/a1**3,        -0.02*x/a1**2]])"
      ]
     },
     "execution_count": 12,
     "metadata": {},
     "output_type": "execute_result"
    }
   ],
   "source": [
    "x = sp.Symbol('x')\n",
    "y = sp.Symbol('y')\n",
    "a1 = sp.Symbol('a1')\n",
    "a2 = sp.Symbol('a2') \n",
    "\n",
    "diff_eqs = {\"f1\" : x*(2*a1 + 0.5*x - y * (a1 ** 2) * (a2 ** (-2))), \n",
    "            \"f2\" : x*(2*a2 + 0.5*y - x * (a2 ** 2) * (a1 ** (-2))),\n",
    "            \"f3\" : eps*(2 - 2 * y * a1 * a2 ** (-2)),\n",
    "            \"f4\" : eps*(2 - 2 * x * a2 * a1 ** (-2))\n",
    "            }\n",
    "\n",
    "X = Matrix([diff_eqs[\"f1\"], diff_eqs[\"f2\"], diff_eqs[\"f3\"], diff_eqs[\"f4\"]])\n",
    "Y = Matrix([x, y, a1, a2])\n",
    "\n",
    "J = X.jacobian(Y)\n",
    "J\n"
   ]
  },
  {
   "cell_type": "markdown",
   "metadata": {},
   "source": [
    "#### Решаем систему уравнений"
   ]
  },
  {
   "cell_type": "code",
   "execution_count": null,
   "metadata": {},
   "outputs": [],
   "source": []
  }
 ],
 "metadata": {
  "interpreter": {
   "hash": "31f2aee4e71d21fbe5cf8b01ff0e069b9275f58929596ceb00d14d90e3e16cd6"
  },
  "kernelspec": {
   "display_name": "Python 3.8.10 64-bit",
   "language": "python",
   "name": "python3"
  },
  "language_info": {
   "codemirror_mode": {
    "name": "ipython",
    "version": 3
   },
   "file_extension": ".py",
   "mimetype": "text/x-python",
   "name": "python",
   "nbconvert_exporter": "python",
   "pygments_lexer": "ipython3",
   "version": "3.8.10"
  },
  "orig_nbformat": 4
 },
 "nbformat": 4,
 "nbformat_minor": 2
}
