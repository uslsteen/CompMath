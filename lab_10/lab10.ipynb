{
 "cells": [
  {
   "cell_type": "markdown",
   "metadata": {},
   "source": [
    "# **Лабораторная работа №10 по вычислительной математикe.**\n",
    "\n",
    "## Работу выполнил: Шурыгин Антон, Б01 - 909.\n",
    "\n",
    "### **Решение уравнения переноса**"
   ]
  },
  {
   "cell_type": "markdown",
   "metadata": {},
   "source": [
    "##### Заданием данной лабораторной работы является разработка программы, осуществляющей поиск численного решения для уравнения переноса:\n",
    "\n",
    "$$\n",
    "\\begin{equation*}\n",
    " \\begin{cases}\n",
    "    \\frac{\\partial u}{\\partial t} + a \\cdot \\frac{\\partial u}{\\partial x} = f(t, x) , \\:\\:\\: 0 \\leq t \\leq T, \\:\\:\\: 0 \\leq x \\leq X\n",
    "    \\\\\n",
    "    u(x, 0) = \\varphi(x), \\:\\:\\: 0 \\leq x \\leq X\n",
    "    \\\\\n",
    "    u(0, t) = \\psi(t), \\:\\:\\: 0 \\leq t \\leq T\n",
    " \\end{cases}\n",
    "\\end{equation*}\n",
    "$$\n",
    "\n",
    "##### Для решения задачи используется равномерная сетка с шагами τ по времени и h по координате. \n",
    "\n",
    "##### Функция $u(t,x)$ рассматривается в точках $t=k\\tau$,  $x=mh$,  $0 \\leq k \\leq K$, $\\leq m \\leq M$,  $T=K\\tau$,  $X=Mh$.\n",
    "\n",
    "\n",
    "##### Для поиска решения использовать явная центральная трехточечная схема:\n",
    "\n",
    "##### Разностная схема записывается следующим образом:\n",
    "\n",
    "$$\n",
    "\\begin{equation*}\n",
    "   u_{m}^{k+1} - \\frac{1}{2\\tau}(u_{m + 1}^{k} + u_{m - 1}^{k}) + \\frac{1}{2h}(u_{m + 1}^{k} + u_{m - 1}^{k}) = f_{m}^{k}, \\:\\:\\: k = \\overline{0, K-1}, \\:\\: m = \\overline{0, M}  \n",
    "\\end{equation*}\n",
    "$$\n",
    "\n",
    "Выразим значение $ u_m^{k+1} сеточной функции:$\n",
    "\n",
    "$$\n",
    "\\begin{equation*}\n",
    "   u_{m}^{k+1} = u_{m}^{k} - \\frac{\\tau}{h} \\cdot (u_{m}^{k} - u_{m - 1}^{k}) + \\tau\\cdot f_{m}^{k}, \\:\\:\\: k = \\overline{0, K-1}, \\:\\: m = \\overline{0, M}  \n",
    "\\end{equation*}\n",
    "$$\n",
    "\n",
    "\n",
    "#####  \n"
   ]
  },
  {
   "cell_type": "code",
   "execution_count": 42,
   "metadata": {},
   "outputs": [],
   "source": [
    "import numpy as np\n",
    "from matplotlib import pyplot as plt\n",
    "from matplotlib import cm"
   ]
  },
  {
   "cell_type": "code",
   "execution_count": 43,
   "metadata": {},
   "outputs": [],
   "source": [
    "tau = 1e-3\n",
    "h = 1e-3\n",
    "\n",
    "T = X = 1\n",
    "\n",
    "x_steps = int(X / h)\n",
    "t_steps = int(T / tau)"
   ]
  },
  {
   "cell_type": "code",
   "execution_count": 44,
   "metadata": {},
   "outputs": [],
   "source": [
    "def phi(x):\n",
    "    return np.cos(np.pi * x)\n",
    "\n",
    "def psi(t):\n",
    "    return np.exp(-t)\n",
    "\n",
    "def f(x, t):\n",
    "    return x + t"
   ]
  },
  {
   "cell_type": "code",
   "execution_count": 45,
   "metadata": {},
   "outputs": [],
   "source": [
    "def solve_eq():\n",
    "    data = np.zeros((t_steps, x_steps))\n",
    "\n",
    "    for t in range(data.shape[0]):\n",
    "        data[t][0] = psi(t * tau)\n",
    "\n",
    "    for x in range(data.shape[1]):\n",
    "        data[0][x] = phi(x * h)\n",
    "\n",
    "    for t in range(1, data.shape[0]):\n",
    "        for x in range(0, data.shape[1] - 1):\n",
    "            data[t][x + 1] =  data[t][x] - (tau / h) * (data[t][x] - data[t-1][x]) + tau * f(x * h, t * tau)\n",
    "            \n",
    "    return data\n",
    "\n",
    "def plot(u):\n",
    "        \n",
    "    x = np.arange(start=0, stop=X, step=h)\n",
    "    t = np.arange(start=0, stop=T, step=tau)\n",
    "\n",
    "    x, t = np.meshgrid(x, t)\n",
    "\n",
    "    fig = plt.figure(figsize=(15, 15))\n",
    "    graph = plt.axes(projection='3d')\n",
    "\n",
    "    surf = graph.plot_surface(x, t, u, cmap=cm.plasma)\n",
    "    graph.set_xlabel(\"x\", fontsize=20)\n",
    "    graph.set_ylabel(\"t\", fontsize=20)\n",
    "\n",
    "    graph.set_zlabel(\"u(x, t)\", fontsize=20)\n",
    "\n",
    "    fig.colorbar(surf, shrink=0.5)\n",
    "\n",
    "    plt.grid()\n",
    "    plt.show()\n"
   ]
  },
  {
   "cell_type": "code",
   "execution_count": 46,
   "metadata": {},
   "outputs": [
    {
     "ename": "UnboundLocalError",
     "evalue": "local variable 'x' referenced before assignment",
     "output_type": "error",
     "traceback": [
      "\u001b[0;31m---------------------------------------------------------------------------\u001b[0m",
      "\u001b[0;31mUnboundLocalError\u001b[0m                         Traceback (most recent call last)",
      "\u001b[0;32m/tmp/ipykernel_24543/3913808787.py\u001b[0m in \u001b[0;36m<module>\u001b[0;34m\u001b[0m\n\u001b[0;32m----> 1\u001b[0;31m \u001b[0mplot\u001b[0m\u001b[0;34m(\u001b[0m\u001b[0msolve_eq\u001b[0m\u001b[0;34m(\u001b[0m\u001b[0;34m)\u001b[0m\u001b[0;34m)\u001b[0m\u001b[0;34m\u001b[0m\u001b[0;34m\u001b[0m\u001b[0m\n\u001b[0m",
      "\u001b[0;32m/tmp/ipykernel_24543/2142502604.py\u001b[0m in \u001b[0;36mplot\u001b[0;34m(u)\u001b[0m\n\u001b[1;32m     15\u001b[0m \u001b[0;34m\u001b[0m\u001b[0m\n\u001b[1;32m     16\u001b[0m \u001b[0;32mdef\u001b[0m \u001b[0mplot\u001b[0m\u001b[0;34m(\u001b[0m\u001b[0mu\u001b[0m\u001b[0;34m)\u001b[0m\u001b[0;34m:\u001b[0m\u001b[0;34m\u001b[0m\u001b[0;34m\u001b[0m\u001b[0m\n\u001b[0;32m---> 17\u001b[0;31m     \u001b[0mx\u001b[0m\u001b[0;34m,\u001b[0m \u001b[0mt\u001b[0m \u001b[0;34m=\u001b[0m \u001b[0mnp\u001b[0m\u001b[0;34m.\u001b[0m\u001b[0mmeshgrid\u001b[0m\u001b[0;34m(\u001b[0m\u001b[0mx\u001b[0m\u001b[0;34m,\u001b[0m \u001b[0mt\u001b[0m\u001b[0;34m)\u001b[0m\u001b[0;34m\u001b[0m\u001b[0;34m\u001b[0m\u001b[0m\n\u001b[0m\u001b[1;32m     18\u001b[0m \u001b[0;34m\u001b[0m\u001b[0m\n\u001b[1;32m     19\u001b[0m     \u001b[0mfig\u001b[0m \u001b[0;34m=\u001b[0m \u001b[0mplt\u001b[0m\u001b[0;34m.\u001b[0m\u001b[0mfigure\u001b[0m\u001b[0;34m(\u001b[0m\u001b[0mfigsize\u001b[0m\u001b[0;34m=\u001b[0m\u001b[0;34m(\u001b[0m\u001b[0;36m15\u001b[0m\u001b[0;34m,\u001b[0m \u001b[0;36m15\u001b[0m\u001b[0;34m)\u001b[0m\u001b[0;34m)\u001b[0m\u001b[0;34m\u001b[0m\u001b[0;34m\u001b[0m\u001b[0m\n",
      "\u001b[0;31mUnboundLocalError\u001b[0m: local variable 'x' referenced before assignment"
     ]
    }
   ],
   "source": [
    "plot(solve_eq())"
   ]
  }
 ],
 "metadata": {
  "interpreter": {
   "hash": "31f2aee4e71d21fbe5cf8b01ff0e069b9275f58929596ceb00d14d90e3e16cd6"
  },
  "kernelspec": {
   "display_name": "Python 3.8.10 64-bit",
   "language": "python",
   "name": "python3"
  },
  "language_info": {
   "codemirror_mode": {
    "name": "ipython",
    "version": 3
   },
   "file_extension": ".py",
   "mimetype": "text/x-python",
   "name": "python",
   "nbconvert_exporter": "python",
   "pygments_lexer": "ipython3",
   "version": "3.8.10"
  },
  "orig_nbformat": 4
 },
 "nbformat": 4,
 "nbformat_minor": 2
}
