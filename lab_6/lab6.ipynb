{
 "cells": [
  {
   "cell_type": "markdown",
   "metadata": {},
   "source": [
    "# **Лабораторная работа №5 по вычислительной математикe.**\n",
    "\n",
    "## Работу выполнил: Шурыгин Антон, Б01 - 909.\n",
    "\n",
    "### **VIII. 11.3**"
   ]
  },
  {
   "cell_type": "markdown",
   "metadata": {},
   "source": [
    "#### Исследуйте поведение фазовых траекторий для системы ОДУ\n",
    "\n",
    "$$\n",
    " x' = y \\\\\n",
    " y' = x^{2} - 1\n",
    "$$\n",
    "\n",
    "вблизи особых точек (1, 0) и (-1, 0) с помощью двух методов Рунге-Кутты(первого и четвертого порядка аппроксимации). Значение $x(0), y(0)$ варьируйте самостоятельно."
   ]
  },
  {
   "cell_type": "markdown",
   "metadata": {},
   "source": [
    "### **Методы Рунге-Кутты** \n",
    "\n",
    "#### Для СДУ\n",
    "\n",
    "$$\n",
    "\\frac{d\\vec{u}}{dt} = \\vec{f}(t, \\vec{u})\n",
    "$$\n",
    "\n",
    "c задачей Коши:\n",
    "\n",
    "$$\n",
    "\\overrightarrow{u(0)} = \\overrightarrow{u_0}\n",
    "$$"
   ]
  },
  {
   "cell_type": "markdown",
   "metadata": {},
   "source": [
    "#### Рассмотрим метод Рунге-Кутты первого порядка аппроксимации\n",
    "\n",
    "$$ \\frac{\\Delta\\overrightarrow{u_n}}{\\tau} = \\overrightarrow{f}(t_n, \\overrightarrow{u_n})  \\:\\: \\Rightarrow \\:\\: \\overrightarrow{u_{n + 1}} = \\overrightarrow{u_n} + \\tau \\overrightarrow{f}(t_n, \\overrightarrow{u_n}) $$"
   ]
  },
  {
   "cell_type": "code",
   "execution_count": null,
   "metadata": {},
   "outputs": [],
   "source": []
  },
  {
   "cell_type": "markdown",
   "metadata": {},
   "source": [
    "#### Рассмотрим метод Рунге-Кутты четвертого порядка аппроксимации\n",
    "\n",
    "$$ \\frac{\\Delta\\overrightarrow{u_n}}{\\tau} = \\overrightarrow{f}(t_n, \\overrightarrow{u_n})  \\:\\: \\Rightarrow \\:\\: \\overrightarrow{u_{n + 1}} = \\overrightarrow{u_n} + \\frac{k1 + 2k_2 + 2k_3 + k_4}{6} $$\n",
    "\n",
    "где \n",
    "\n",
    "$$\n",
    "\n",
    "k_1 = \\tau \\overrightarrow{f}(t_n, \\overrightarrow{u_n})\n",
    "\\\\\n",
    "k_2 = \\tau \\overrightarrow{f}(t_n + \\frac{\\tau}{2}, \\overrightarrow{u_n} + \\frac{k_1}{2}) \\\\\n",
    "k_3 = \\tau \\overrightarrow{f}(t_n + \\frac{\\tau}{2}, \\overrightarrow{u_n} + \\frac{k_2}{2})\n",
    "\\\\\n",
    "k_4 = \\tau \\overrightarrow{f}(t_n + \\tau, \\overrightarrow{u_n} + k_3)\n",
    "$$"
   ]
  },
  {
   "cell_type": "code",
   "execution_count": null,
   "metadata": {},
   "outputs": [],
   "source": []
  }
 ],
 "metadata": {
  "language_info": {
   "name": "python"
  },
  "orig_nbformat": 4
 },
 "nbformat": 4,
 "nbformat_minor": 2
}
