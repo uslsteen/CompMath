{
 "cells": [
  {
   "cell_type": "markdown",
   "metadata": {},
   "source": [
    "# **Лабораторная работа №3 по вычислительной математикe.**\n",
    "\n",
    "## Работу выполнил: Шурыгин Антон, Б01 - 909.\n",
    "\n",
    "### **IV. 12.2**"
   ]
  },
  {
   "cell_type": "markdown",
   "metadata": {},
   "source": [
    "## **Условие**\n",
    "\n",
    "$$\n",
    "\\begin{equation*}\n",
    " \\begin{cases}\n",
    "   tg(y-x) + xy = 0,3\n",
    "   \\\\\n",
    "   x^{2} + y^{2} = 1,5\n",
    " \\end{cases}\n",
    "\\end{equation*}\n",
    "$$"
   ]
  },
  {
   "cell_type": "code",
   "execution_count": 166,
   "metadata": {},
   "outputs": [],
   "source": [
    "from scipy.optimize import fsolve\n",
    "import numpy as np\n",
    "import matplotlib.pyplot as plt\n",
    "import sympy as sp"
   ]
  },
  {
   "cell_type": "code",
   "execution_count": 167,
   "metadata": {},
   "outputs": [],
   "source": [
    "x = sp.Symbol('x')\n",
    "y = sp.Symbol('y')\n",
    "\n",
    "eps = 10e-6\n",
    "\n",
    "def norm(vec):\n",
    "  return max(abs(vec))"
   ]
  },
  {
   "cell_type": "markdown",
   "metadata": {},
   "source": [
    "## Рассмотрим систему нелинейных уравнений в виде:\n",
    "\n",
    "$$F(x) = 0, \\:\\: F(x), x \\in R^{n}$$"
   ]
  },
  {
   "cell_type": "code",
   "execution_count": 168,
   "metadata": {},
   "outputs": [
    {
     "name": "stdout",
     "output_type": "stream",
     "text": [
      "f1 : x*y - tan(x - y) - 0.3\n",
      "f2 : x**2 + y**2 - 1.5\n"
     ]
    }
   ],
   "source": [
    "eqs = {\"f1\"  : sp.tan(y - x) + y*x - 0.3, \n",
    "       \"f2\" : (y ** 2) + (x ** 2) - 1.5 }\n",
    "\n",
    "for eq in eqs.items():\n",
    "    print(f'{eq[0]} : {eq[1]}')"
   ]
  },
  {
   "cell_type": "markdown",
   "metadata": {},
   "source": [
    "### Матрицей якоби для данной системы будет:\n",
    "$$F'(x) = \\frac{\\partial F(x)}{x}$$"
   ]
  },
  {
   "cell_type": "code",
   "execution_count": 169,
   "metadata": {},
   "outputs": [
    {
     "name": "stdout",
     "output_type": "stream",
     "text": [
      "f1_x : y - tan(x - y)**2 - 1\n",
      "f1_y : x + tan(x - y)**2 + 1\n",
      "f2_x : 2*x\n",
      "f2_y : 2*y\n"
     ]
    }
   ],
   "source": [
    "jcbn = {\n",
    "             \"f1_x\" : sp.diff(eqs['f1'], x, 1),\n",
    "             \"f1_y\" : sp.diff(eqs['f1'], y, 1),\n",
    "             \"f2_x\" : sp.diff(eqs['f2'], x, 1),\n",
    "             \"f2_y\" : sp.diff(eqs['f2'], y, 1)\n",
    "       }\n",
    "\n",
    "\n",
    "for jc_it in jcbn.items():\n",
    "    print(f'{jc_it[0]} : {jc_it[1]}')"
   ]
  },
  {
   "cell_type": "markdown",
   "metadata": {},
   "source": [
    "## **Реализация метода Ньютона**\n",
    "\n",
    " $$ x^{k+1} = x^{k} - [F'(x^{k})]^{-1}F(x^{k}) $$\n",
    "\n",
    "## Сводим посталвенную задачу к решению СЛАУ\n",
    "#### Пусть $\\delta x^{k}= x^{k+1} - x^{k}$\n",
    "\n",
    " $$ \\frac{\\partial F(x^{k})}{\\partial x} \\cdot \\delta x^{k} = -F(x^{k}) $$\n",
    "\n",
    "### До тех пор, пока не достигнута точнсть $||x^{k + 1} - x^{k}|| < \\varepsilon$ находим поправку $\\delta x^{k}$ и переходм к следудющему приближению.\n",
    "\n"
   ]
  },
  {
   "cell_type": "code",
   "execution_count": 170,
   "metadata": {},
   "outputs": [],
   "source": [
    "def jcbn_calc(jcbn, x_k):\n",
    "    return  np.array([[float(jcbn['f1_x'].subs({x : x_k[0], y: x_k[1]})),\n",
    "                       float(jcbn['f1_y'].subs({x : x_k[0], y: x_k[1]}))], \n",
    "                      [float(jcbn['f2_x'].subs({x : x_k[0], y: x_k[1]})),\n",
    "                       float(jcbn['f2_y'].subs({x : x_k[0], y: x_k[1]}))]])\n",
    "\n",
    "\n",
    "def f_calc(eqs, x_k):\n",
    "    return np.array([float(-eqs[\"f1\"].subs({x : x_k[0], y: x_k[1]})), \n",
    "                     float(-eqs[\"f2\"].subs({x : x_k[0], y: x_k[1]}))])\n",
    "\n",
    "\n",
    "def newton_meth(x_0):\n",
    "\n",
    "    x_k = x_0\n",
    "    greater = True\n",
    "    iters = 0\n",
    "\n",
    "    while greater:\n",
    "        \n",
    "        iters += 1\n",
    "        f_k = f_calc(eqs, x_k)\n",
    "        jcbn_k = jcbn_calc(jcbn, x_k)\n",
    "\n",
    "        dx_k = np.linalg.solve(jcbn_k, f_k)\n",
    "        x_k_1 = x_k + dx_k\n",
    "\n",
    "        greater = np.linalg.norm(x_k_1 - x_k) > eps\n",
    "\n",
    "        x_k = x_k_1\n",
    "\n",
    "    return x_k_1, iters"
   ]
  },
  {
   "cell_type": "markdown",
   "metadata": {},
   "source": [
    "### Найдем решение методом Ньютона в окрестности точки (1, 1)"
   ]
  },
  {
   "cell_type": "code",
   "execution_count": 173,
   "metadata": {},
   "outputs": [
    {
     "name": "stdout",
     "output_type": "stream",
     "text": [
      "x=1.0294058595953521, y=0.663568818066159\n",
      "Число итераций 4\n"
     ]
    }
   ],
   "source": [
    "root, iters = newton_meth([1, 1])\n",
    "print(f'x={root[0]}, y={root[1]}')\n",
    "print(f'Число итераций {iters}')"
   ]
  },
  {
   "cell_type": "markdown",
   "metadata": {},
   "source": [
    "### Найдем решение методом Ньютона в окрестности точки (-1, -1)"
   ]
  },
  {
   "cell_type": "code",
   "execution_count": 174,
   "metadata": {},
   "outputs": [
    {
     "name": "stdout",
     "output_type": "stream",
     "text": [
      "x=-0.663568818066159, y=-1.0294058595953521\n",
      "Число итераций 4\n"
     ]
    }
   ],
   "source": [
    "root, iters = newton_meth([-1, -1])\n",
    "print(f'x={root[0]}, y={root[1]}')\n",
    "print(f'Число итераций {iters}')"
   ]
  },
  {
   "cell_type": "markdown",
   "metadata": {},
   "source": [
    "## **Реализация метода простых итераций**"
   ]
  },
  {
   "cell_type": "markdown",
   "metadata": {},
   "source": [
    "## Cведём исходную систему к виду:\n",
    "  $$\n",
    "    \\begin{equation*}\n",
    "    \\begin{cases}\n",
    "      \\phi_1(x_{k+1}, y_{k+1}) = x_{k+1} = \\pm \\sqrt{1.5 - y_k^{2}}\n",
    "      \\\\\n",
    "      \\phi_2(x_{k+1}, y_{k+1}) = y_{k+1} = \\frac{0.3 + tg(x_k - y_k)}{x_k}\n",
    "      \\\\\n",
    "    \\end{cases}\n",
    "    \\end{equation*}\n",
    "  $$\n",
    "  "
   ]
  },
  {
   "cell_type": "markdown",
   "metadata": {},
   "source": [
    "### Область локализации для первой пары решений\n",
    "\n",
    "$$\n",
    "G_1 = \\{ | x - 1 | < 0.1, \\:\\:\\:  |y - 0.6| < 0.1  \\}\n",
    "$$\n",
    "\n",
    "### Область локализации для второй пары решений\n",
    "\n",
    "$$\n",
    "G_2 = \\{ | x + 0,6 | < 0.1, \\:\\:\\:  |y + 1| < 0.1  \\}\n",
    "$$"
   ]
  },
  {
   "cell_type": "markdown",
   "metadata": {},
   "source": [
    "## Выясним, сходится ли МПИ для данной системы\n",
    "\n",
    "\n",
    "$$\n",
    "\\frac{\\partial \\phi_1}{\\partial x} = 0\n",
    "$$\n",
    "\n",
    "\n",
    "$$\n",
    "\\frac{\\partial \\phi_1}{\\partial y} = \\frac{y}{\\sqrt{1.5 - y^{2}}}\n",
    "$$\n",
    "\n",
    "\n",
    "\n",
    "$$\n",
    "\\frac{\\partial \\phi_2}{\\partial x} = \\frac{1}{cos^{2}(x-y) \\cdot x} - \\frac{0.3 + tg(x - y)}{x^{2}}\n",
    "$$\n",
    "\n",
    "\n",
    "$$\n",
    "\\frac{\\partial \\phi_2}{\\partial y} =  - \\frac{1}{cos^{2}(x-y) \\cdot x}\n",
    "$$\n",
    "\n",
    "\n",
    "\n"
   ]
  },
  {
   "cell_type": "code",
   "execution_count": 186,
   "metadata": {},
   "outputs": [],
   "source": [
    "def fixed_point_iter(x_0):\n",
    "    \n",
    "    x_k, y_k = x_0[0], x_0[1]\n",
    "\n",
    "    greater = True\n",
    "    iters = 0 \n",
    "\n",
    "    while greater:\n",
    "        \n",
    "        iters += 1\n",
    "\n",
    "        if x_0[0] < 0:\n",
    "            x_k_1 = -np.sqrt((1.5 - y_k ** 2))\n",
    "        else:\n",
    "            x_k_1 = np.sqrt((1.5 - y_k ** 2))\n",
    "\n",
    "        y_k_1 = (0.3 + np.tan(x_k - y_k)) / x_k     \n",
    "        greater = max(np.linalg.norm(x_k_1 - x_k), np.linalg.norm(y_k_1 - y_k)) > eps\n",
    "\n",
    "        x_k, y_k = x_k_1, y_k_1\n",
    "\n",
    "    return x_k_1, y_k_1, iters"
   ]
  },
  {
   "cell_type": "code",
   "execution_count": 187,
   "metadata": {},
   "outputs": [
    {
     "name": "stdout",
     "output_type": "stream",
     "text": [
      "x=1.0294032067253818, y=0.6635661651859277\n"
     ]
    }
   ],
   "source": [
    "root = fixed_point_iter((1, 0.5))\n",
    "print(f'x={root[0]}, y={root[1]}')"
   ]
  },
  {
   "cell_type": "code",
   "execution_count": 185,
   "metadata": {},
   "outputs": [
    {
     "name": "stdout",
     "output_type": "stream",
     "text": [
      "x=nan, y=-2.558065367497152\n"
     ]
    },
    {
     "name": "stderr",
     "output_type": "stream",
     "text": [
      "/tmp/ipykernel_14838/2001969619.py:13: RuntimeWarning: invalid value encountered in sqrt\n",
      "  x_k_1 = -np.sqrt((1.5 - y_k ** 2))\n"
     ]
    }
   ],
   "source": [
    "roots = fixed_point_iter([-0.5, -1])\n",
    "\n",
    "print(f'x={roots[0]}, y={roots[1]}')\n"
   ]
  },
  {
   "cell_type": "markdown",
   "metadata": {},
   "source": []
  },
  {
   "cell_type": "markdown",
   "metadata": {},
   "source": [
    "# Проверим корректность полученных значений с помощью метода ```fsolve```\n",
    "### Решения, полученные с помощью модуля scipy"
   ]
  },
  {
   "cell_type": "code",
   "execution_count": 28,
   "metadata": {},
   "outputs": [],
   "source": [
    "def solve_non_lin(vars):\n",
    "    x, y = vars[0], vars[1]\n",
    "    \n",
    "    return [ np.tan(y - x) + y * x - 0.3,\n",
    "             (y ** 2) + (x ** 2) - 1.5    ]"
   ]
  },
  {
   "cell_type": "markdown",
   "metadata": {},
   "source": [
    "### Найдем решение в окрестности точки (1, 1)"
   ]
  },
  {
   "cell_type": "code",
   "execution_count": 27,
   "metadata": {},
   "outputs": [
    {
     "name": "stdout",
     "output_type": "stream",
     "text": [
      "x=1.0294058595375626, y=0.6635688180963026\n"
     ]
    }
   ],
   "source": [
    "root = fsolve(solve_non_lin, [1, 1])\n",
    "print(f'x={root[0]}, y={root[1]}')"
   ]
  },
  {
   "cell_type": "markdown",
   "metadata": {},
   "source": [
    "### Найдем решение в окрестности точки (-1, -1)"
   ]
  },
  {
   "cell_type": "code",
   "execution_count": 26,
   "metadata": {},
   "outputs": [
    {
     "name": "stdout",
     "output_type": "stream",
     "text": [
      "x=-0.6635688180963026, y=-1.0294058595375626\n"
     ]
    }
   ],
   "source": [
    "root = fsolve(solve_non_lin, [-1, -1])\n",
    "print(f'x={root[0]}, y={root[1]}')"
   ]
  }
 ],
 "metadata": {
  "interpreter": {
   "hash": "31f2aee4e71d21fbe5cf8b01ff0e069b9275f58929596ceb00d14d90e3e16cd6"
  },
  "kernelspec": {
   "display_name": "Python 3.8.10 64-bit",
   "language": "python",
   "name": "python3"
  },
  "language_info": {
   "codemirror_mode": {
    "name": "ipython",
    "version": 3
   },
   "file_extension": ".py",
   "mimetype": "text/x-python",
   "name": "python",
   "nbconvert_exporter": "python",
   "pygments_lexer": "ipython3",
   "version": "3.8.10"
  },
  "orig_nbformat": 4
 },
 "nbformat": 4,
 "nbformat_minor": 2
}
