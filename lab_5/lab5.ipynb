{
 "cells": [
  {
   "cell_type": "markdown",
   "metadata": {},
   "source": [
    "# **Лабораторная работа №5 по вычислительной математикe.**\n",
    "\n",
    "## Работу выполнил: Шурыгин Антон, Б01 - 909."
   ]
  },
  {
   "cell_type": "code",
   "execution_count": 39,
   "metadata": {},
   "outputs": [],
   "source": [
    "import numpy as np"
   ]
  },
  {
   "cell_type": "code",
   "execution_count": 40,
   "metadata": {},
   "outputs": [],
   "source": [
    "start, stop = 0, 1\n",
    "step = 0.125\n",
    "step_2h = step * 2\n",
    "\n",
    "\n",
    "def f_x_calc(x):\n",
    "    tmp = np.exp(-1/x) / (x ** 2)\n",
    "    tmp[0] = 0\n",
    "    return tmp"
   ]
  },
  {
   "cell_type": "markdown",
   "metadata": {},
   "source": [
    "### Определеим функции:\n",
    "\n",
    "- ```trapez(x, f_x)``` - расчет методом трапеций\n",
    "- ```simpson_rule(x, f_x)``` - расчет методом Симпсона"
   ]
  },
  {
   "cell_type": "code",
   "execution_count": 59,
   "metadata": {},
   "outputs": [],
   "source": [
    "def trapez(x, f_x):\n",
    "    print()\n",
    "\n",
    "    I = 0 \n",
    "    len_x = len(x)\n",
    "    assert len_x == len(f_x)\n",
    "    \n",
    "    for k in range(len_x - 1):\n",
    "        h_k = x[k + 1] - x[k] \n",
    "        I += (h_k / 2) * (f_x[k + 1] + f_x[k])\n",
    "\n",
    "    return I\n",
    "\n",
    "def simpson_rule(x, f_x):\n",
    "\n",
    "    I = 0 \n",
    "    len_x = len(x)\n",
    "    assert len_x == len(f_x)\n",
    "\n",
    "    h = x[len_x - 1] - x[0]\n",
    "\n",
    "    for k in range(int(len_x / 2)):\n",
    "        h_2k = x[2*k + 1] - x[2*k]\n",
    "        I += (h_2k / 3) * (f_x[2*k] + 4 * f_x[2*k + 1] + f_x[2*k + 2])\n",
    "\n",
    "    return I"
   ]
  },
  {
   "cell_type": "markdown",
   "metadata": {},
   "source": [
    "### Рассчитаем разными методами численно определенный интеграл"
   ]
  },
  {
   "cell_type": "code",
   "execution_count": 62,
   "metadata": {},
   "outputs": [
    {
     "name": "stdout",
     "output_type": "stream",
     "text": [
      "\n",
      "\n",
      "Численное значение методом трапеций: 0.36698855751355025\n",
      "Численное значение методом трапеций с удвоенным шагом: 0.37173705254496936\n",
      "Численное значение методом Cимпсона: 0.3654057258364105\n",
      "Численное знаачнеие экстраполяцией Ричардсона : 0.36540572583641057\n"
     ]
    },
    {
     "name": "stderr",
     "output_type": "stream",
     "text": [
      "/tmp/ipykernel_13582/1534977628.py:7: RuntimeWarning: divide by zero encountered in true_divide\n",
      "  tmp = np.exp(-1/x) / (x ** 2)\n",
      "/tmp/ipykernel_13582/1534977628.py:7: RuntimeWarning: invalid value encountered in true_divide\n",
      "  tmp = np.exp(-1/x) / (x ** 2)\n"
     ]
    }
   ],
   "source": [
    "x1 = np.arange(start, stop + step, step)\n",
    "x2 = np.arange(start, stop + step_2h, step_2h)\n",
    "\n",
    "y1 = f_x_calc(x1)\n",
    "y2 = f_x_calc(x2)\n",
    "\n",
    "I_h = trapez(x1, y1)\n",
    "I_2h = trapez(x2, y2)\n",
    "I_simps = simpson_rule(x1, y1)\n",
    "\n",
    "I_richrds = I_h + (I_h - I_2h) / (2 ** 2 - 1)\n",
    "\n",
    "print(f'Численное значение методом трапеций: {I_h}')\n",
    "print(f'Численное значение методом трапеций с удвоенным шагом: {I_2h}')\n",
    "print(f'Численное значение методом Cимпсона: {I_simps}')\n",
    "print(f'Численное знаачнеие экстраполяцией Ричардсона : {I_richrds}')\n"
   ]
  },
  {
   "cell_type": "markdown",
   "metadata": {},
   "source": [
    "### Итого:\n",
    "\n",
    "$$ I_h = 0.366988557 $$\n",
    "\n",
    "$$ I_{2h} = 0.37173705 $$\n",
    "\n",
    "$$ I_{R} = I_S = 0.365406 $$\n"
   ]
  }
 ],
 "metadata": {
  "interpreter": {
   "hash": "31f2aee4e71d21fbe5cf8b01ff0e069b9275f58929596ceb00d14d90e3e16cd6"
  },
  "kernelspec": {
   "display_name": "Python 3.8.10 64-bit",
   "language": "python",
   "name": "python3"
  },
  "language_info": {
   "codemirror_mode": {
    "name": "ipython",
    "version": 3
   },
   "file_extension": ".py",
   "mimetype": "text/x-python",
   "name": "python",
   "nbconvert_exporter": "python",
   "pygments_lexer": "ipython3",
   "version": "3.8.10"
  },
  "orig_nbformat": 4
 },
 "nbformat": 4,
 "nbformat_minor": 2
}
