{
 "cells": [
  {
   "cell_type": "markdown",
   "metadata": {},
   "source": [
    "# **Лабораторная работа №3 по вычислительной математикe.**\n",
    "\n",
    "## Работу выполнил: Шурыгин Антон, Б01 - 909."
   ]
  },
  {
   "cell_type": "code",
   "execution_count": 18,
   "metadata": {},
   "outputs": [],
   "source": [
    "import numpy as np\n",
    "import matplotlib.pyplot as plt\n",
    "import pandas as pd"
   ]
  },
  {
   "cell_type": "markdown",
   "metadata": {},
   "source": [
    "## **Исходные данные**"
   ]
  },
  {
   "cell_type": "code",
   "execution_count": 136,
   "metadata": {},
   "outputs": [],
   "source": [
    "pop_stats = {\n",
    "    1910 : 92228496,\n",
    "    1920 : 106021537,\n",
    "    1930 : 123202624,\n",
    "    1940 : 132164569,\n",
    "    1950 : 151325798,\n",
    "    1960 : 179323175,\n",
    "    1970 : 203211926,\n",
    "    1980 : 226545805,\n",
    "    1990 : 248709873,\n",
    "    2000 : 281421906,\n",
    "}\n",
    "\n",
    "pop_2010 = 308745538\n",
    "interp_yr = 2010\n",
    "\n",
    "yr_offset = interp_yr - list(pop_stats.keys())[0]"
   ]
  },
  {
   "cell_type": "markdown",
   "metadata": {},
   "source": [
    "## **Определим функцию для построения графика населения США**"
   ]
  },
  {
   "cell_type": "markdown",
   "metadata": {},
   "source": [
    "### Полезные константы для графопостроительной функции"
   ]
  },
  {
   "cell_type": "code",
   "execution_count": 137,
   "metadata": {},
   "outputs": [],
   "source": [
    "\n",
    "pop_label = \"данные переписи населения\"\n",
    "x_label = \"год\"\n",
    "y_label = \"Численность населения\"\n",
    "\n",
    "x_lim = [1900, 2020]\n",
    "y_lim = [0, 9e8]\n",
    "fig_size = [16, 8]"
   ]
  },
  {
   "cell_type": "code",
   "execution_count": 125,
   "metadata": {},
   "outputs": [],
   "source": [
    "yrs = list(pop_stats.keys())\n",
    "pop_value = list(pop_stats.values())\n",
    "\n",
    "def pop_graph(x_interp, y_interp, poly_labl, color = 'r'):\n",
    "\n",
    "    plt.figure(figsize=fig_size)\n",
    "\n",
    "    plt.plot(yrs, pop_value, 'o', label=pop_label)\n",
    "\n",
    "    if len(y_interp) == 1 and len(x_interp) == 1:\n",
    "        plt.plot(x_interp, y_interp, 'o', label=poly_labl)\n",
    "        x_interp = yrs + x_interp\n",
    "        y_interp = pop_value + y_interp\n",
    "\n",
    "    plt.plot(x_interp, y_interp, color, label=poly_labl)\n",
    "    \n",
    "    plt.xlim(x_lim)\n",
    "    plt.ylim(y_lim)\n",
    "    \n",
    "    plt.xlabel(x_label)\n",
    "    plt.ylabel(y_label)\n",
    "\n",
    "    plt.legend()\n",
    "    plt.show()"
   ]
  },
  {
   "cell_type": "markdown",
   "metadata": {},
   "source": [
    "## **Построим интерполянт в форме Ньютона**"
   ]
  },
  {
   "cell_type": "code",
   "execution_count": 131,
   "metadata": {},
   "outputs": [],
   "source": [
    "def get_diff_tb(data):\n",
    "\n",
    "    x, y = list(data.keys()), list(data.values())\n",
    "    len_x = len(x)\n",
    "    assert len_x == len(y)\n",
    "\n",
    "    diff_tb = np.zeros((len_x, len_x))\n",
    "    diff_tb[0] = y\n",
    "    diff_tb = diff_tb.transpose()\n",
    "    \n",
    "    for i in range(1, len_x):\n",
    "        for j in range(0, len_x - i):\n",
    "            diff_tb[j][i] = (diff_tb[j + 1][i - 1] - diff_tb[j][i-1])\\\n",
    "                                       / (x[i + j] - x[j])\n",
    "    \n",
    "    return diff_tb\n",
    "\n",
    "\n",
    "def newton_poly(x, yrs, diff_tb):\n",
    "\n",
    "    fst_node = diff_tb[0]\n",
    "    n = len(yrs)\n",
    "    poly = fst_node[n - 1]\n",
    "\n",
    "    for i in range(1, n):\n",
    "        poly = fst_node[n - i - 1] + poly * (x - yrs[n - i - 1]) \n",
    "    \n",
    "    return poly\n",
    "    \n",
    "\n",
    "def newton_interpolation(data, grph_fn):\n",
    "    diff_tb = get_diff_tb(data)\n",
    "\n",
    "    yrs = list(data.keys())\n",
    "    \n",
    "    x_data = np.arange(yrs[0], yrs[len(yrs) - 1] + 20, 1)\n",
    "    poly = newton_poly(x_data, yrs, diff_tb)\n",
    "\n",
    "    grph_fn(x_data, poly, \"интерполянт Ньютона\")\n",
    "    return poly"
   ]
  },
  {
   "cell_type": "markdown",
   "metadata": {},
   "source": [
    "### Определим функции для построения интерполянта Ньютона"
   ]
  },
  {
   "cell_type": "markdown",
   "metadata": {},
   "source": [
    "## Выведем красиво матрицу с помощью модуля ```pandas```"
   ]
  },
  {
   "cell_type": "code",
   "execution_count": 61,
   "metadata": {},
   "outputs": [
    {
     "data": {
      "text/html": [
       "<div>\n",
       "<style scoped>\n",
       "    .dataframe tbody tr th:only-of-type {\n",
       "        vertical-align: middle;\n",
       "    }\n",
       "\n",
       "    .dataframe tbody tr th {\n",
       "        vertical-align: top;\n",
       "    }\n",
       "\n",
       "    .dataframe thead th {\n",
       "        text-align: right;\n",
       "    }\n",
       "</style>\n",
       "<table border=\"1\" class=\"dataframe\">\n",
       "  <thead>\n",
       "    <tr style=\"text-align: right;\">\n",
       "      <th></th>\n",
       "      <th>0</th>\n",
       "      <th>1</th>\n",
       "      <th>2</th>\n",
       "      <th>3</th>\n",
       "      <th>4</th>\n",
       "      <th>5</th>\n",
       "      <th>6</th>\n",
       "      <th>7</th>\n",
       "      <th>8</th>\n",
       "      <th>9</th>\n",
       "    </tr>\n",
       "  </thead>\n",
       "  <tbody>\n",
       "    <tr>\n",
       "      <th>0</th>\n",
       "      <td>92228496.0</td>\n",
       "      <td>1379304.1</td>\n",
       "      <td>16940.230</td>\n",
       "      <td>-1934.531333</td>\n",
       "      <td>125.106725</td>\n",
       "      <td>-4.150598</td>\n",
       "      <td>0.080565</td>\n",
       "      <td>-0.000756</td>\n",
       "      <td>-0.000008</td>\n",
       "      <td>5.099328e-07</td>\n",
       "    </tr>\n",
       "    <tr>\n",
       "      <th>1</th>\n",
       "      <td>106021537.0</td>\n",
       "      <td>1718108.7</td>\n",
       "      <td>-41095.710</td>\n",
       "      <td>3069.737667</td>\n",
       "      <td>-82.423175</td>\n",
       "      <td>0.683327</td>\n",
       "      <td>0.027611</td>\n",
       "      <td>-0.001362</td>\n",
       "      <td>0.000038</td>\n",
       "      <td>0.000000e+00</td>\n",
       "    </tr>\n",
       "    <tr>\n",
       "      <th>2</th>\n",
       "      <td>123202624.0</td>\n",
       "      <td>896194.5</td>\n",
       "      <td>50996.420</td>\n",
       "      <td>-227.189333</td>\n",
       "      <td>-48.256825</td>\n",
       "      <td>2.340014</td>\n",
       "      <td>-0.067705</td>\n",
       "      <td>0.001705</td>\n",
       "      <td>0.000000</td>\n",
       "      <td>0.000000e+00</td>\n",
       "    </tr>\n",
       "    <tr>\n",
       "      <th>3</th>\n",
       "      <td>132164569.0</td>\n",
       "      <td>1916122.9</td>\n",
       "      <td>44180.740</td>\n",
       "      <td>-2157.462333</td>\n",
       "      <td>68.743867</td>\n",
       "      <td>-1.722268</td>\n",
       "      <td>0.051623</td>\n",
       "      <td>0.000000</td>\n",
       "      <td>0.000000</td>\n",
       "      <td>0.000000e+00</td>\n",
       "    </tr>\n",
       "    <tr>\n",
       "      <th>4</th>\n",
       "      <td>151325798.0</td>\n",
       "      <td>2799737.7</td>\n",
       "      <td>-20543.130</td>\n",
       "      <td>592.292333</td>\n",
       "      <td>-17.369554</td>\n",
       "      <td>1.375117</td>\n",
       "      <td>0.000000</td>\n",
       "      <td>0.000000</td>\n",
       "      <td>0.000000</td>\n",
       "      <td>0.000000e+00</td>\n",
       "    </tr>\n",
       "    <tr>\n",
       "      <th>5</th>\n",
       "      <td>179323175.0</td>\n",
       "      <td>2388875.1</td>\n",
       "      <td>-2774.360</td>\n",
       "      <td>-102.489833</td>\n",
       "      <td>51.386312</td>\n",
       "      <td>0.000000</td>\n",
       "      <td>0.000000</td>\n",
       "      <td>0.000000</td>\n",
       "      <td>0.000000</td>\n",
       "      <td>0.000000e+00</td>\n",
       "    </tr>\n",
       "    <tr>\n",
       "      <th>6</th>\n",
       "      <td>203211926.0</td>\n",
       "      <td>2333387.9</td>\n",
       "      <td>-5849.055</td>\n",
       "      <td>1952.962667</td>\n",
       "      <td>0.000000</td>\n",
       "      <td>0.000000</td>\n",
       "      <td>0.000000</td>\n",
       "      <td>0.000000</td>\n",
       "      <td>0.000000</td>\n",
       "      <td>0.000000e+00</td>\n",
       "    </tr>\n",
       "    <tr>\n",
       "      <th>7</th>\n",
       "      <td>226545805.0</td>\n",
       "      <td>2216406.8</td>\n",
       "      <td>52739.825</td>\n",
       "      <td>0.000000</td>\n",
       "      <td>0.000000</td>\n",
       "      <td>0.000000</td>\n",
       "      <td>0.000000</td>\n",
       "      <td>0.000000</td>\n",
       "      <td>0.000000</td>\n",
       "      <td>0.000000e+00</td>\n",
       "    </tr>\n",
       "    <tr>\n",
       "      <th>8</th>\n",
       "      <td>248709873.0</td>\n",
       "      <td>3271203.3</td>\n",
       "      <td>0.000</td>\n",
       "      <td>0.000000</td>\n",
       "      <td>0.000000</td>\n",
       "      <td>0.000000</td>\n",
       "      <td>0.000000</td>\n",
       "      <td>0.000000</td>\n",
       "      <td>0.000000</td>\n",
       "      <td>0.000000e+00</td>\n",
       "    </tr>\n",
       "    <tr>\n",
       "      <th>9</th>\n",
       "      <td>281421906.0</td>\n",
       "      <td>0.0</td>\n",
       "      <td>0.000</td>\n",
       "      <td>0.000000</td>\n",
       "      <td>0.000000</td>\n",
       "      <td>0.000000</td>\n",
       "      <td>0.000000</td>\n",
       "      <td>0.000000</td>\n",
       "      <td>0.000000</td>\n",
       "      <td>0.000000e+00</td>\n",
       "    </tr>\n",
       "  </tbody>\n",
       "</table>\n",
       "</div>"
      ],
      "text/plain": [
       "             0          1          2            3           4         5  \\\n",
       "0   92228496.0  1379304.1  16940.230 -1934.531333  125.106725 -4.150598   \n",
       "1  106021537.0  1718108.7 -41095.710  3069.737667  -82.423175  0.683327   \n",
       "2  123202624.0   896194.5  50996.420  -227.189333  -48.256825  2.340014   \n",
       "3  132164569.0  1916122.9  44180.740 -2157.462333   68.743867 -1.722268   \n",
       "4  151325798.0  2799737.7 -20543.130   592.292333  -17.369554  1.375117   \n",
       "5  179323175.0  2388875.1  -2774.360  -102.489833   51.386312  0.000000   \n",
       "6  203211926.0  2333387.9  -5849.055  1952.962667    0.000000  0.000000   \n",
       "7  226545805.0  2216406.8  52739.825     0.000000    0.000000  0.000000   \n",
       "8  248709873.0  3271203.3      0.000     0.000000    0.000000  0.000000   \n",
       "9  281421906.0        0.0      0.000     0.000000    0.000000  0.000000   \n",
       "\n",
       "          6         7         8             9  \n",
       "0  0.080565 -0.000756 -0.000008  5.099328e-07  \n",
       "1  0.027611 -0.001362  0.000038  0.000000e+00  \n",
       "2 -0.067705  0.001705  0.000000  0.000000e+00  \n",
       "3  0.051623  0.000000  0.000000  0.000000e+00  \n",
       "4  0.000000  0.000000  0.000000  0.000000e+00  \n",
       "5  0.000000  0.000000  0.000000  0.000000e+00  \n",
       "6  0.000000  0.000000  0.000000  0.000000e+00  \n",
       "7  0.000000  0.000000  0.000000  0.000000e+00  \n",
       "8  0.000000  0.000000  0.000000  0.000000e+00  \n",
       "9  0.000000  0.000000  0.000000  0.000000e+00  "
      ]
     },
     "execution_count": 61,
     "metadata": {},
     "output_type": "execute_result"
    }
   ],
   "source": [
    "# Idea was inspired by Tako-San"
   ]
  },
  {
   "cell_type": "markdown",
   "metadata": {},
   "source": [
    "### Вызов интерполяции Ньютона"
   ]
  },
  {
   "cell_type": "code",
   "execution_count": 140,
   "metadata": {},
   "outputs": [
    {
     "data": {
      "image/png": "[encoded data removed]",
      "text/plain": [
       "<Figure size 1152x576 with 1 Axes>"
      ]
     },
     "metadata": {
      "needs_background": "light"
     },
     "output_type": "display_data"
    },
    {
     "name": "stdout",
     "output_type": "stream",
     "text": [
      "Интерполяция Ньютона\n",
      "Экстраполированное значение населения: 827906509 человек\n",
      "Реальное значение населения 308745538 человек\n"
     ]
    }
   ],
   "source": [
    "interp_pop = newton_interpolation(pop_stats, pop_graph)\n",
    "\n",
    "print(\"Интерполяция Ньютона\")\n",
    "print(f'Экстраполированное значение населения: {int(interp_pop[yr_offset])} человек')\n",
    "print(f'Реальное значение населения {pop_2010} человек')"
   ]
  },
  {
   "cell_type": "markdown",
   "metadata": {},
   "source": [
    "## **Построим сплайн-аппроксимацию**"
   ]
  },
  {
   "cell_type": "markdown",
   "metadata": {},
   "source": [
    "### Определим класс-обертку над кубическим сплайном"
   ]
  },
  {
   "cell_type": "code",
   "execution_count": 160,
   "metadata": {},
   "outputs": [],
   "source": [
    "class spline:\n",
    "    def __init__(self, a=0, b=0, c=0, d=0, x=0):\n",
    "\n",
    "        self.a = a\n",
    "        self.b = b\n",
    "        self.c = c\n",
    "        self.d = d\n",
    "\n",
    "        self.x = x"
   ]
  },
  {
   "cell_type": "markdown",
   "metadata": {},
   "source": [
    "## Определим функции для сплайн-интерполяции\n",
    "\n",
    "- ```spline_interp(data, interp_x, plt_fn)``` - оболочка над всеми служебными функциями\n",
    "- ```build(data)``` - конструктор массива сплайнов\n",
    "- ```interpolate(splines, x)``` - функция, интерполирующая заданную величину $x$"
   ]
  },
  {
   "cell_type": "code",
   "execution_count": 161,
   "metadata": {},
   "outputs": [],
   "source": [
    "def spline_interp(data, interp_x, plt_fn):\n",
    "    spl_arr = build(data)\n",
    "    \n",
    "    try:\n",
    "        interp_y = interpolate(spl_arr, interp_x) \n",
    "    except Exception as err:\n",
    "        print(err)\n",
    "    else:\n",
    "        plt_fn([interp_x], [interp_y], \"сплайн-интерполянт\", 'b')\n",
    "        return interp_y\n",
    "\n",
    "\n",
    "def build(data):\n",
    "    \n",
    "    x, y = list(data.keys()), list(data.values())\n",
    "    len_x = len(x)\n",
    "    assert len_x == len(y)\n",
    "\n",
    "    splines = [spline() for _ in range(len_x)]\n",
    "\n",
    "    for i in range(0, len_x):\n",
    "        splines[i].x, splines[i].a = x[i], y[i]\n",
    "    \n",
    "    splines[0].c = splines[len_x - 1].c = 0.0\n",
    "    \n",
    "    # Методом трехдиагональной прогонки находим с[i]\n",
    "    alpha = [0.0 for _ in range(len_x - 1)]\n",
    "    beta  = [0.0 for _ in range(len_x - 1)]\n",
    " \n",
    "    for i in range(1, len_x - 1):\n",
    "\n",
    "        h_i  = x[i] - x[i - 1]\n",
    "        h_i_1 = x[i + 1] - x[i]\n",
    "\n",
    "        A, B = h_i, h_i_1\n",
    "        C = 2.0 * (h_i + h_i_1)\n",
    "        F = 6.0 * ((y[i + 1] - y[i]) / h_i_1 - (y[i] - y[i - 1]) / h_i)\n",
    "\n",
    "        z = (A * alpha[i - 1] + C)\n",
    "\n",
    "        alpha[i] = -B / z\n",
    "        beta[i] = (F - A * beta[i - 1]) / z\n",
    "  \n",
    "    # Нахождение решения - обратный ход метода прогонки\n",
    "    for i in range(len_x - 2, 0, -1):\n",
    "        splines[i].c = alpha[i] * splines[i + 1].c + beta[i]\n",
    "    \n",
    "    # Определяем  b[i] и d[i]\n",
    "    for i in range(len_x - 1, 0, -1):\n",
    "        hi = x[i] - x[i - 1]\n",
    "\n",
    "        splines[i].d = (splines[i].c - splines[i - 1].c) / hi\n",
    "\n",
    "        splines[i].b =  (y[i] - y[i - 1]) / hi + \\\n",
    "                  hi * (splines[i].c / 3 + splines[i - 1].c / 6) \n",
    "                                    \n",
    "    return splines\n",
    " \n",
    "\n",
    "def bin_search(arr, len, x):\n",
    "    i, j = 0, len - 1\n",
    "\n",
    "    while i + 1 < j:\n",
    "        k = i + (j - i) // 2\n",
    "        if x <= arr[k].x:\n",
    "            j = k\n",
    "        else:\n",
    "            i = k\n",
    "\n",
    "    return arr[j]\n",
    " \n",
    "\n",
    "def interpolate(splines, x):\n",
    "    if not splines:\n",
    "        raise Exception(\"Ошибка : сплайнов не существует\")\n",
    "    \n",
    "    spl_len = len(splines)\n",
    "    interp_y = spline()\n",
    "    \n",
    "    if x <= splines[0].x:\n",
    "        interp_y = splines[0]\n",
    "\n",
    "    elif x >= splines[spl_len - 1].x:\n",
    "        interp_y = splines[spl_len - 1]\n",
    "\n",
    "    else:\n",
    "        interp_y = bin_search(splines, spl_len, x)\n",
    "    \n",
    "    dx = x - interp_y.x\n",
    "\n",
    "    return interp_y.a + (interp_y.b + (interp_y.c / 2.0 + interp_y.d * dx / 6.0) * dx) * dx\n"
   ]
  },
  {
   "cell_type": "markdown",
   "metadata": {},
   "source": [
    "### Вызов сплайн-интерполяции"
   ]
  },
  {
   "cell_type": "code",
   "execution_count": 162,
   "metadata": {},
   "outputs": [
    {
     "data": {
      "image/png": "[encoded data removed]",
      "text/plain": [
       "<Figure size 1152x576 with 1 Axes>"
      ]
     },
     "metadata": {
      "needs_background": "light"
     },
     "output_type": "display_data"
    },
    {
     "name": "stdout",
     "output_type": "stream",
     "text": [
      "Сплайн-интерполяция\n",
      "Экстраполированное значение населения : 314133939 человек\n",
      "Реальное значение населения 308745538 человек\n"
     ]
    }
   ],
   "source": [
    "interp_pop = spline_interp(pop_stats, interp_yr, pop_graph)\n",
    "\n",
    "print(\"Сплайн-интерполяция\")\n",
    "print(f'Экстраполированное значение населения : {int(interp_pop)} человек')\n",
    "print(f'Реальное значение населения {pop_2010} человек')"
   ]
  },
  {
   "cell_type": "markdown",
   "metadata": {},
   "source": [
    "## **Сравним полученные значения с результатами интерполяции из модуля ```scipy```**"
   ]
  },
  {
   "cell_type": "code",
   "execution_count": 142,
   "metadata": {},
   "outputs": [
    {
     "data": {
      "image/png": "[encoded data removed]",
      "text/plain": [
       "<Figure size 1152x576 with 1 Axes>"
      ]
     },
     "metadata": {
      "needs_background": "light"
     },
     "output_type": "display_data"
    },
    {
     "name": "stdout",
     "output_type": "stream",
     "text": [
      "Сплайн-инерполяция библиотеки scipy\n",
      "Экстраполированное значение населения : 340343089 человек\n",
      "Реальное значение населения 308745538 человек\n"
     ]
    }
   ],
   "source": [
    "from scipy.interpolate import CubicSpline\n",
    "\n",
    "x, y = list(pop_stats.keys()), list(pop_stats.values())\n",
    "len_x = len(x)\n",
    "\n",
    "x_data = np.arange(x[0], x[len_x - 1] + 20, 1)\n",
    "\n",
    "pop_spline = CubicSpline(x, y)\n",
    "pop_graph(x_data, pop_spline(x_data), \"scipy CubicSpline\")\n",
    "\n",
    "pop_spline(x_data)[yr_offset]\n",
    "\n",
    "print(\"Сплайн-инерполяция библиотеки scipy\")\n",
    "print(f'Экстраполированное значение населения : {int(pop_spline(x_data)[yr_offset])} человек')\n",
    "print(f'Реальное значение населения {pop_2010} человек')"
   ]
  }
 ],
 "metadata": {
  "interpreter": {
   "hash": "31f2aee4e71d21fbe5cf8b01ff0e069b9275f58929596ceb00d14d90e3e16cd6"
  },
  "kernelspec": {
   "display_name": "Python 3.8.10 64-bit",
   "language": "python",
   "name": "python3"
  },
  "language_info": {
   "codemirror_mode": {
    "name": "ipython",
    "version": 3
   },
   "file_extension": ".py",
   "mimetype": "text/x-python",
   "name": "python",
   "nbconvert_exporter": "python",
   "pygments_lexer": "ipython3",
   "version": "3.8.10"
  },
  "orig_nbformat": 4
 },
 "nbformat": 4,
 "nbformat_minor": 2
}
