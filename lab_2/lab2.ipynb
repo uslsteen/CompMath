{
  "nbformat": 4,
  "nbformat_minor": 0,
  "metadata": {
    "colab": {
      "name": "lab2.ipynb",
      "provenance": [],
      "collapsed_sections": []
    },
    "kernelspec": {
      "name": "python3",
      "display_name": "Python 3"
    },
    "language_info": {
      "name": "python"
    }
  },
  "cells": [
    {
      "cell_type": "markdown",
      "metadata": {
        "id": "WCvJ8NNc2tSn"
      },
      "source": [
        "# Лабораторная работа №1 по вычислительной математики.\n",
        "\n",
        "## Работу выполнил: Шурыгин Антон, Б01 - 909.\n",
        "\n"
      ]
    },
    {
      "cell_type": "code",
      "metadata": {
        "id": "yHx_tbT_2I7-"
      },
      "source": [
        "import numpy as np"
      ],
      "execution_count": 245,
      "outputs": []
    },
    {
      "cell_type": "markdown",
      "metadata": {
        "id": "hUhEpNzY2xMr"
      },
      "source": [
        "### Определение основных параметров СЛУ."
      ]
    },
    {
      "cell_type": "code",
      "metadata": {
        "id": "f670PnS1-94c"
      },
      "source": [
        "n = 99\n",
        "size = n + 1\n",
        "\n",
        "\n",
        "#a_vec = np.array([1 for i in range(n - 1)])\n",
        "a_vec = np.ones(n-1)\n",
        "c_vec = np.ones(n)\n",
        "p_vec = np.full(size, 2)\n",
        "\n",
        "b_vec = np.array([10 + i for i in range(n)])\n",
        "f_vec = np.array([i/n for i in range(size)]).transpose()\n"
      ],
      "execution_count": 246,
      "outputs": []
    },
    {
      "cell_type": "markdown",
      "metadata": {
        "id": "n2DjqIcO3lEA"
      },
      "source": [
        "- Служебные функции для расчета нормы, сравнения с нулем.\n",
        "- Определение бесконечно малых констант"
      ]
    },
    {
      "cell_type": "code",
      "metadata": {
        "id": "smiPqaa5kTLp"
      },
      "source": [
        "eps = 1e-10\n",
        "tolerance = 1e-6\n",
        "\n",
        "def is_zero(value):\n",
        "  return value < eps\n",
        "\n",
        "def norm_it(value):\n",
        "  return np.linalg.norm(value)"
      ],
      "execution_count": 247,
      "outputs": []
    },
    {
      "cell_type": "markdown",
      "metadata": {
        "id": "Uc4dMdiW3zlW"
      },
      "source": [
        "### Функция - инициализация для матрицы данной СЛУ."
      ]
    },
    {
      "cell_type": "code",
      "metadata": {
        "id": "D893q9sD2uks"
      },
      "source": [
        "def matr_init(size):\n",
        "\n",
        "  matr = np.zeros((size, size))\n",
        "\n",
        "  for i in range(size):\n",
        "    for j in range(size):\n",
        "      if i == j and i < n and j < n:\n",
        "        matr[i][j] = 10 + i\n",
        "\n",
        "      elif i == (j + 1) and i < n:\n",
        "        matr[i][j] = a_vec[j]\n",
        "      \n",
        "      elif j == (i + 1) and j < size:\n",
        "        matr[i][j] = c_vec[i]\n",
        "\n",
        "      elif i == size - 1:\n",
        "        matr[i][j] = p_vec[j]\n",
        "\n",
        "  return matr"
      ],
      "execution_count": 248,
      "outputs": []
    },
    {
      "cell_type": "markdown",
      "metadata": {
        "id": "yy5lcoLk37eC"
      },
      "source": [
        "### Реализация метода Гаусса решения СЛУ."
      ]
    },
    {
      "cell_type": "code",
      "metadata": {
        "id": "tpkXs_VhIjqE"
      },
      "source": [
        "def gauss_method_solve(matr):\n",
        "\n",
        "  transform_matr = gauss_pivot_transform(matr)\n",
        "  solution = solve_it(matr)\n",
        "\n",
        "  return solution\n",
        "\n",
        "\n",
        "def gauss_pivot_transform(matr):\n",
        "\n",
        "    for nrow in range(size):\n",
        "        pivot = nrow + np.argmax(abs(matr[nrow:, nrow]))\n",
        "\n",
        "        if pivot != nrow:\n",
        "            matr[[nrow, pivot]] = matr[[pivot, nrow]]\n",
        "\n",
        "        row = matr[nrow]\n",
        "        divisor = row[nrow]\n",
        "\n",
        "        if is_zero(abs(divisor)):\n",
        "            raise ValueError(\"Invalid matrix\")\n",
        "\n",
        "        row /= divisor\n",
        "\n",
        "        for lower_row in matr[nrow+1:]:\n",
        "            factor = lower_row[nrow]\n",
        "            lower_row -= factor*row\n",
        "    \n",
        "    return matr\n",
        "\n",
        "\n",
        "def solve_it(matr):\n",
        "  \n",
        "    solution = [list for _ in range(size)]\n",
        "    prev_ind = 0\n",
        "\n",
        "    for i in range(size):\n",
        "\n",
        "      cur_ind = size - 1 - i\n",
        "    \n",
        "      diag_elem = matr[cur_ind][cur_ind]\n",
        "      solution[cur_ind] = f_vec[cur_ind] / diag_elem\n",
        "      \n",
        "      if (i > 0):\n",
        "        solution[cur_ind] -= matr[cur_ind][prev_ind] * (solution[prev_ind]) / diag_elem\n",
        "\n",
        "      prev_ind = cur_ind\n",
        "\n",
        "\n",
        "    return solution           \n",
        " "
      ],
      "execution_count": 249,
      "outputs": []
    },
    {
      "cell_type": "markdown",
      "metadata": {
        "id": "ftaOD1qp4BdQ"
      },
      "source": [
        "### Реализация метода Зейделя решения СЛУ."
      ]
    },
    {
      "cell_type": "code",
      "metadata": {
        "id": "ObZZXlhZiphc"
      },
      "source": [
        "def seidel_method_solve(matr):\n",
        "\n",
        "  x_k = np.zeros(size)\n",
        "  x = np.zeros(size)\n",
        "\n",
        "  while (norm_it(np.dot(matr, x_k) - f_vec) > tolerance):\n",
        "    \n",
        "    x = x_k\n",
        "\n",
        "    for i in range(size):\n",
        "      x_k[i] = f_vec[i]\n",
        "\n",
        "      for j in range(i - 1):\n",
        "        x_k[i] = x_k[i] - matr[i][j] * x_k[j]\n",
        "      \n",
        "      for j in range(i + 1, size):\n",
        "        x_k[i] = x_k[i] - matr[i][j] * x[j]\n",
        "\n",
        "      x_k[i] = x_k[i] / matr[i][i]\n",
        "\n",
        "  return x\n"
      ],
      "execution_count": 261,
      "outputs": []
    },
    {
      "cell_type": "markdown",
      "metadata": {
        "id": "F5H-YOlY4sME"
      },
      "source": [
        "### Рассчет числа обусловленностей по формуле:\n",
        "\n",
        "$$\n",
        "\\mu = \\|A^{-1}\\| \\cdot \\|A\\| \n",
        "$$"
      ]
    },
    {
      "cell_type": "code",
      "metadata": {
        "id": "iA_LaDNI5cE4"
      },
      "source": [
        "def fst_norm(matr):\n",
        "  nrow, ncol = matr.shape\n",
        "  norm = 0\n",
        "\n",
        "  for j in range(ncol):\n",
        "    sum = 0\n",
        "    for i in range(nrow):\n",
        "      sum += abs(matr[i][j])\n",
        "    norm = max(sum, norm)\n",
        "\n",
        "  return norm\n",
        "\n",
        "def sec_norm(matr):\n",
        "  nrow, ncol = matr.shape\n",
        "  norm = 0\n",
        "\n",
        "  for i in range(nrow):\n",
        "    sum = 0\n",
        "    for j in range(ncol):\n",
        "      sum += abs(matr[i][j])\n",
        "    norm = max(sum, norm)\n",
        "\n",
        "  return norm\n",
        "\n",
        "\n",
        "def mu_calc(norma, matr):\n",
        "  inv_matr = np.linalg.inv(matr)\n",
        "\n",
        "  return norma(inv_matr) * norma(matr)"
      ],
      "execution_count": 269,
      "outputs": []
    },
    {
      "cell_type": "code",
      "metadata": {
        "colab": {
          "base_uri": "https://localhost:8080/",
          "height": 1000
        },
        "id": "qGxd9vRQPPZc",
        "outputId": "b46885b1-8809-4ddc-a679-601eeb1557eb"
      },
      "source": [
        "def main():\n",
        "  \n",
        "  A = matr_init(size)\n",
        "  np_sol = np.linalg.solve(A, f_vec) # smth strange ???????\n",
        "  print(np_sol)\n",
        "\n",
        "  gauss_sol = gauss_method_solve(A)\n",
        "  print(\"Gauss algorithm solution:\")\n",
        "  print(np.array(gauss_sol))  \n",
        "\n",
        "  print(\"Seidel algorithm solution:\")\n",
        "  z_sol = seidel_method_solve(A)\n",
        "  print(z_sol)\n",
        "\n",
        "  norm_list = [fst_norm, sec_norm, thd_norm]\n",
        "\n",
        "  i = 0\n",
        "\n",
        "  for norm_it in norm_list:\n",
        "    print(f\"mu_{i + 1} = {mu_calc(norm_it, A)}\")\n",
        "    i += 1\n",
        "\n",
        "if __name__ == '__main__':\n",
        "    main()\n",
        "\n"
      ],
      "execution_count": 270,
      "outputs": [
        {
          "output_type": "stream",
          "name": "stdout",
          "text": [
            "[-7.93799218e-05  7.93799218e-04  1.44859862e-03  2.02503751e-03\n",
            "  2.52894404e-03  2.97378631e-03  3.36931185e-03  3.72328469e-03\n",
            "  4.04191917e-03  4.33025097e-03  4.59240328e-03  4.83178438e-03\n",
            "  5.05123594e-03  5.25314605e-03  5.43953611e-03  5.61212860e-03\n",
            "  5.77240032e-03  5.92162466e-03  6.06090546e-03  6.19120427e-03\n",
            "  6.31336259e-03  6.42812001e-03  6.53612919e-03  6.63796824e-03\n",
            "  6.73415112e-03  6.82513622e-03  6.91133374e-03  6.99311182e-03\n",
            "  7.07080180e-03  7.14470272e-03  7.21508515e-03  7.28219449e-03\n",
            "  7.34625386e-03  7.40746654e-03  7.46601815e-03  7.52207849e-03\n",
            "  7.57580326e-03  7.62733540e-03  7.67680647e-03  7.72433768e-03\n",
            "  7.77004093e-03  7.81401968e-03  7.85636971e-03  7.89717985e-03\n",
            "  7.93653259e-03  7.97450463e-03  8.01116737e-03  8.04658738e-03\n",
            "  8.08082679e-03  8.11394366e-03  8.14599230e-03  8.17702357e-03\n",
            "  8.20708516e-03  8.23622182e-03  8.26447559e-03  8.29188600e-03\n",
            "  8.31849025e-03  8.34432339e-03  8.36941847e-03  8.39380667e-03\n",
            "  8.41751744e-03  8.44057862e-03  8.46301655e-03  8.48485615e-03\n",
            "  8.50612104e-03  8.52683361e-03  8.54701510e-03  8.56668568e-03\n",
            "  8.58586451e-03  8.60456979e-03  8.62281886e-03  8.64062821e-03\n",
            "  8.65801353e-03  8.67498979e-03  8.69157126e-03  8.70777156e-03\n",
            "  8.72360368e-03  8.73908002e-03  8.75421245e-03  8.76901230e-03\n",
            "  8.78349043e-03  8.79765720e-03  8.81152256e-03  8.82509601e-03\n",
            "  8.83838669e-03  8.85140334e-03  8.86415435e-03  8.87664776e-03\n",
            "  8.88889131e-03  8.90089242e-03  8.91265821e-03  8.92419554e-03\n",
            "  8.93551101e-03  8.94661094e-03  8.95750146e-03  8.96818655e-03\n",
            "  8.97887090e-03  8.96846792e-03  1.11930415e-02 -2.27917961e-01]\n",
            "Gauss algorithm solution:\n",
            "[-8.45897469e-04  8.45897469e-03  1.78981860e-02  2.74346492e-02\n",
            "  3.70480804e-02  4.67236103e-02  5.64499989e-02  6.62185834e-02\n",
            "  7.60225744e-02  8.58565726e-02  9.57162288e-02  1.05597999e-01\n",
            "  1.15498966e-01  1.25416706e-01  1.35349187e-01  1.45294694e-01\n",
            "  1.55251771e-01  1.65219167e-01  1.75195811e-01  1.85180771e-01\n",
            "  1.95173239e-01  2.05172507e-01  2.15177956e-01  2.25189037e-01\n",
            "  2.35205267e-01  2.45226214e-01  2.55251495e-01  2.65280766e-01\n",
            "  2.75313721e-01  2.85350083e-01  2.95389601e-01  3.05432049e-01\n",
            "  3.15477223e-01  3.25524937e-01  3.35575021e-01  3.45627320e-01\n",
            "  3.55681693e-01  3.65738009e-01  3.75796151e-01  3.85856007e-01\n",
            "  3.95917478e-01  4.05980469e-01  4.16044896e-01  4.26110677e-01\n",
            "  4.36177740e-01  4.46246015e-01  4.56315438e-01  4.66385951e-01\n",
            "  4.76457497e-01  4.86530026e-01  4.96603488e-01  5.06677838e-01\n",
            "  5.16753035e-01  5.26829038e-01  5.36905810e-01  5.46983317e-01\n",
            "  5.57061525e-01  5.67140404e-01  5.77219924e-01  5.87300058e-01\n",
            "  5.97380779e-01  6.07462064e-01  6.17543889e-01  6.27626233e-01\n",
            "  6.37709074e-01  6.47792393e-01  6.57876172e-01  6.67960392e-01\n",
            "  6.78045037e-01  6.88130091e-01  6.98215539e-01  7.08301366e-01\n",
            "  7.18387559e-01  7.28474104e-01  7.38560990e-01  7.48648204e-01\n",
            "  7.58735735e-01  7.68823573e-01  7.78911706e-01  7.89000125e-01\n",
            "  7.99088821e-01  8.09177785e-01  8.19267007e-01  8.29356480e-01\n",
            "  8.39446196e-01  8.49536147e-01  8.59626326e-01  8.69716726e-01\n",
            "  8.79807340e-01  8.89898162e-01  8.99989186e-01  9.10080405e-01\n",
            "  9.20171814e-01  9.30263408e-01  9.40355181e-01  9.50447129e-01\n",
            "  9.60539238e-01  9.70632322e-01  9.80638929e-01  1.00000000e+00]\n",
            "Seidel algorithm solution:\n",
            "[-8.45697292e-04  8.45913669e-03  1.78983160e-02  2.74347542e-02\n",
            "  3.70481658e-02  4.67236802e-02  5.64500566e-02  6.62186314e-02\n",
            "  7.60226146e-02  8.58566065e-02  9.57162576e-02  1.05598024e-01\n",
            "  1.15498987e-01  1.25416724e-01  1.35349203e-01  1.45294708e-01\n",
            "  1.55251783e-01  1.65219178e-01  1.75195820e-01  1.85180779e-01\n",
            "  1.95173246e-01  2.05172514e-01  2.15177962e-01  2.25189043e-01\n",
            "  2.35205271e-01  2.45226218e-01  2.55251498e-01  2.65280770e-01\n",
            "  2.75313725e-01  2.85350086e-01  2.95389603e-01  3.05432051e-01\n",
            "  3.15477225e-01  3.25524939e-01  3.35575023e-01  3.45627322e-01\n",
            "  3.55681694e-01  3.65738011e-01  3.75796152e-01  3.85856008e-01\n",
            "  3.95917479e-01  4.05980471e-01  4.16044897e-01  4.26110678e-01\n",
            "  4.36177741e-01  4.46246016e-01  4.56315439e-01  4.66385952e-01\n",
            "  4.76457498e-01  4.86530026e-01  4.96603488e-01  5.06677839e-01\n",
            "  5.16753035e-01  5.26829038e-01  5.36905811e-01  5.46983318e-01\n",
            "  5.57061526e-01  5.67140404e-01  5.77219924e-01  5.87300058e-01\n",
            "  5.97380779e-01  6.07462064e-01  6.17543890e-01  6.27626233e-01\n",
            "  6.37709074e-01  6.47792393e-01  6.57876172e-01  6.67960392e-01\n",
            "  6.78045037e-01  6.88130091e-01  6.98215539e-01  7.08301366e-01\n",
            "  7.18387559e-01  7.28474105e-01  7.38560990e-01  7.48648204e-01\n",
            "  7.58735736e-01  7.68823573e-01  7.78911706e-01  7.89000125e-01\n",
            "  7.99088821e-01  8.09177785e-01  8.19267007e-01  8.29356480e-01\n",
            "  8.39446196e-01  8.49536147e-01  8.59626326e-01  8.69716726e-01\n",
            "  8.79807340e-01  8.89898162e-01  8.99989186e-01  9.10080405e-01\n",
            "  9.20171814e-01  9.30263408e-01  9.40355182e-01  9.50447129e-01\n",
            "  9.60539238e-01  9.70632322e-01  9.80638929e-01  1.00000000e+00]\n",
            "mu_1 = 1.2110091743119267\n",
            "mu_2 = 1.2210098630710007\n"
          ]
        },
        {
          "output_type": "error",
          "ename": "TypeError",
          "evalue": "ignored",
          "traceback": [
            "\u001b[0;31m---------------------------------------------------------------------------\u001b[0m",
            "\u001b[0;31mTypeError\u001b[0m                                 Traceback (most recent call last)",
            "\u001b[0;32m<ipython-input-270-cda91c3aeef3>\u001b[0m in \u001b[0;36m<module>\u001b[0;34m()\u001b[0m\n\u001b[1;32m     22\u001b[0m \u001b[0;34m\u001b[0m\u001b[0m\n\u001b[1;32m     23\u001b[0m \u001b[0;32mif\u001b[0m \u001b[0m__name__\u001b[0m \u001b[0;34m==\u001b[0m \u001b[0;34m'__main__'\u001b[0m\u001b[0;34m:\u001b[0m\u001b[0;34m\u001b[0m\u001b[0;34m\u001b[0m\u001b[0m\n\u001b[0;32m---> 24\u001b[0;31m     \u001b[0mmain\u001b[0m\u001b[0;34m(\u001b[0m\u001b[0;34m)\u001b[0m\u001b[0;34m\u001b[0m\u001b[0;34m\u001b[0m\u001b[0m\n\u001b[0m\u001b[1;32m     25\u001b[0m \u001b[0;34m\u001b[0m\u001b[0m\n",
            "\u001b[0;32m<ipython-input-270-cda91c3aeef3>\u001b[0m in \u001b[0;36mmain\u001b[0;34m()\u001b[0m\n\u001b[1;32m     18\u001b[0m \u001b[0;34m\u001b[0m\u001b[0m\n\u001b[1;32m     19\u001b[0m   \u001b[0;32mfor\u001b[0m \u001b[0mnorm_it\u001b[0m \u001b[0;32min\u001b[0m \u001b[0mnorm_list\u001b[0m\u001b[0;34m:\u001b[0m\u001b[0;34m\u001b[0m\u001b[0;34m\u001b[0m\u001b[0m\n\u001b[0;32m---> 20\u001b[0;31m     \u001b[0mprint\u001b[0m\u001b[0;34m(\u001b[0m\u001b[0;34mf\"mu_{i + 1} = {mu_calc(norm_it, A)}\"\u001b[0m\u001b[0;34m)\u001b[0m\u001b[0;34m\u001b[0m\u001b[0;34m\u001b[0m\u001b[0m\n\u001b[0m\u001b[1;32m     21\u001b[0m     \u001b[0mi\u001b[0m \u001b[0;34m+=\u001b[0m \u001b[0;36m1\u001b[0m\u001b[0;34m\u001b[0m\u001b[0;34m\u001b[0m\u001b[0m\n\u001b[1;32m     22\u001b[0m \u001b[0;34m\u001b[0m\u001b[0m\n",
            "\u001b[0;32m<ipython-input-269-264c8c8ec70a>\u001b[0m in \u001b[0;36mmu_calc\u001b[0;34m(norma, matr)\u001b[0m\n\u001b[1;32m     27\u001b[0m   \u001b[0minv_matr\u001b[0m \u001b[0;34m=\u001b[0m \u001b[0mnp\u001b[0m\u001b[0;34m.\u001b[0m\u001b[0mlinalg\u001b[0m\u001b[0;34m.\u001b[0m\u001b[0minv\u001b[0m\u001b[0;34m(\u001b[0m\u001b[0mmatr\u001b[0m\u001b[0;34m)\u001b[0m\u001b[0;34m\u001b[0m\u001b[0;34m\u001b[0m\u001b[0m\n\u001b[1;32m     28\u001b[0m \u001b[0;34m\u001b[0m\u001b[0m\n\u001b[0;32m---> 29\u001b[0;31m   \u001b[0;32mreturn\u001b[0m \u001b[0mnorma\u001b[0m\u001b[0;34m(\u001b[0m\u001b[0minv_matr\u001b[0m\u001b[0;34m)\u001b[0m \u001b[0;34m*\u001b[0m \u001b[0mnorma\u001b[0m\u001b[0;34m(\u001b[0m\u001b[0mmatr\u001b[0m\u001b[0;34m)\u001b[0m\u001b[0;34m\u001b[0m\u001b[0;34m\u001b[0m\u001b[0m\n\u001b[0m",
            "\u001b[0;32m<ipython-input-264-4c2c79dea19d>\u001b[0m in \u001b[0;36mthd_norm\u001b[0;34m(matr)\u001b[0m\n\u001b[1;32m     30\u001b[0m \u001b[0;34m\u001b[0m\u001b[0m\n\u001b[1;32m     31\u001b[0m \u001b[0;32mdef\u001b[0m \u001b[0mthd_norm\u001b[0m\u001b[0;34m(\u001b[0m\u001b[0mmatr\u001b[0m\u001b[0;34m)\u001b[0m\u001b[0;34m:\u001b[0m\u001b[0;34m\u001b[0m\u001b[0;34m\u001b[0m\u001b[0m\n\u001b[0;32m---> 32\u001b[0;31m   \u001b[0;32mreturn\u001b[0m \u001b[0mnp\u001b[0m\u001b[0;34m.\u001b[0m\u001b[0msqrt\u001b[0m\u001b[0;34m(\u001b[0m\u001b[0mmax\u001b[0m\u001b[0;34m(\u001b[0m\u001b[0;34m(\u001b[0m\u001b[0mabs\u001b[0m\u001b[0;34m(\u001b[0m\u001b[0mnp\u001b[0m\u001b[0;34m.\u001b[0m\u001b[0mlinalg\u001b[0m\u001b[0;34m.\u001b[0m\u001b[0meigvals\u001b[0m\u001b[0;34m(\u001b[0m\u001b[0mnp\u001b[0m\u001b[0;34m.\u001b[0m\u001b[0mdot\u001b[0m\u001b[0;34m(\u001b[0m\u001b[0mmatr\u001b[0m\u001b[0;34m,\u001b[0m \u001b[0mmatr\u001b[0m\u001b[0;34m.\u001b[0m\u001b[0mtranspose\u001b[0m\u001b[0;34m)\u001b[0m\u001b[0;34m)\u001b[0m\u001b[0;34m)\u001b[0m\u001b[0;34m)\u001b[0m\u001b[0;34m)\u001b[0m\u001b[0;34m)\u001b[0m\u001b[0;34m\u001b[0m\u001b[0;34m\u001b[0m\u001b[0m\n\u001b[0m\u001b[1;32m     33\u001b[0m \u001b[0;34m\u001b[0m\u001b[0m\n\u001b[1;32m     34\u001b[0m \u001b[0;32mdef\u001b[0m \u001b[0mmu_calc\u001b[0m\u001b[0;34m(\u001b[0m\u001b[0mnorma\u001b[0m\u001b[0;34m,\u001b[0m \u001b[0mmatr\u001b[0m\u001b[0;34m)\u001b[0m\u001b[0;34m:\u001b[0m\u001b[0;34m\u001b[0m\u001b[0;34m\u001b[0m\u001b[0m\n",
            "\u001b[0;32m<__array_function__ internals>\u001b[0m in \u001b[0;36mdot\u001b[0;34m(*args, **kwargs)\u001b[0m\n",
            "\u001b[0;31mTypeError\u001b[0m: unsupported operand type(s) for *: 'float' and 'builtin_function_or_method'"
          ]
        }
      ]
    },
    {
      "cell_type": "code",
      "metadata": {
        "id": "I8Wp2gxKrrxU"
      },
      "source": [
        ""
      ],
      "execution_count": null,
      "outputs": []
    }
  ]
}