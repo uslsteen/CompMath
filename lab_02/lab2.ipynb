{
  "cells": [
    {
      "cell_type": "markdown",
      "metadata": {
        "id": "WCvJ8NNc2tSn"
      },
      "source": [
        "# **Лабораторная работа №1 по вычислительной математикe.**\n",
        "\n",
        "## Работу выполнил: Шурыгин Антон, Б01 - 909.\n",
        "\n"
      ]
    },
    {
      "cell_type": "code",
      "execution_count": 7,
      "metadata": {
        "id": "yHx_tbT_2I7-"
      },
      "outputs": [],
      "source": [
        "import numpy as np"
      ]
    },
    {
      "cell_type": "markdown",
      "metadata": {
        "id": "hUhEpNzY2xMr"
      },
      "source": [
        "# **Определение основных параметров СЛАУ**\n",
        "\n",
        "\n"
      ]
    },
    {
      "cell_type": "code",
      "execution_count": 28,
      "metadata": {
        "id": "f670PnS1-94c"
      },
      "outputs": [],
      "source": [
        "N = 99\n",
        "SIZE = N + 1\n",
        "\n",
        "a_vec = np.ones(N-1)\n",
        "c_vec = np.ones(N)\n",
        "p_vec = np.full(SIZE, 2)\n",
        "\n",
        "b_vec = np.array([10 + i for i in range(N)])\n",
        "f_vec = np.array([i/N for i in range(SIZE)])"
      ]
    },
    {
      "cell_type": "markdown",
      "metadata": {
        "id": "n2DjqIcO3lEA"
      },
      "source": [
        "- Служебная функция для сравнения с нулем \n",
        "- Определение бесконечно малой константы"
      ]
    },
    {
      "cell_type": "code",
      "execution_count": 29,
      "metadata": {
        "id": "smiPqaa5kTLp"
      },
      "outputs": [],
      "source": [
        "tolerance = 1e-3\n",
        "\n",
        "def is_zero(value):\n",
        "  return value < tolerance"
      ]
    },
    {
      "cell_type": "markdown",
      "metadata": {
        "id": "RO5QCyjYqJMn"
      },
      "source": [
        "# Определение функций расчета нормы $\\|x\\|_i$ вектора."
      ]
    },
    {
      "cell_type": "code",
      "execution_count": 30,
      "metadata": {
        "id": "0_sVxuEmqI_M"
      },
      "outputs": [],
      "source": [
        "def fst_vec_norm(vec):\n",
        "  return max(abs(vec))\n",
        "\n",
        "def sec_vec_norm(vec):\n",
        "  return abs(max(vec))\n",
        "\n",
        "def trd_vec_norm(vec):\n",
        "  return np.sqrt(sum(vec * vec))\n",
        "\n",
        "vec_norm_list = [fst_vec_norm, sec_vec_norm, trd_vec_norm]"
      ]
    },
    {
      "cell_type": "markdown",
      "metadata": {
        "id": "AFV9P-qZpbkF"
      },
      "source": [
        "# Определение функций расчета нормы $\\|A\\|_i$ матрицы."
      ]
    },
    {
      "cell_type": "code",
      "execution_count": 31,
      "metadata": {
        "id": "aVcyK1gkpA1W"
      },
      "outputs": [],
      "source": [
        "def fst_matr_norm(matr):\n",
        "  nrow, ncol = matr.shape\n",
        "  norm = 0\n",
        "\n",
        "  for j in range(ncol):\n",
        "    sum = 0\n",
        "    for i in range(nrow):\n",
        "      sum += abs(matr[i][j])\n",
        "    norm = max(sum, norm)\n",
        "\n",
        "  return norm\n",
        "\n",
        "def sec_matr_norm(matr):\n",
        "  nrow, ncol = matr.shape\n",
        "  norm = 0\n",
        "\n",
        "  for i in range(nrow):\n",
        "    sum = 0\n",
        "    for j in range(ncol):\n",
        "      sum += abs(matr[i][j])\n",
        "    norm = max(sum, norm)\n",
        "\n",
        "  return norm\n",
        "\n",
        "def trd_matr_norm(matr):\n",
        "  return np.sqrt(max(abs(np.linalg.eigvals(np.dot(matr, matr.transpose())))))\n",
        "\n",
        "matr_norm_list = [fst_matr_norm, sec_matr_norm, trd_matr_norm]"
      ]
    },
    {
      "cell_type": "markdown",
      "metadata": {
        "id": "KrGVdK6fppTd"
      },
      "source": [
        "# Функция - инициализация матрицы данной СЛАУ."
      ]
    },
    {
      "cell_type": "code",
      "execution_count": 32,
      "metadata": {
        "id": "LtE9Efohpoyg"
      },
      "outputs": [],
      "source": [
        "def matr_init(size):\n",
        "\n",
        "  matr = np.zeros((size, size))\n",
        "\n",
        "  for i in range(size):\n",
        "    for j in range(size):\n",
        "      if i == j and i < N and j < N:\n",
        "        matr[i][j] = 10 + i\n",
        "\n",
        "      elif i == (j + 1) and i < N:\n",
        "        matr[i][j] = a_vec[j]\n",
        "      \n",
        "      elif j == (i + 1) and j < size:\n",
        "        matr[i][j] = c_vec[i]\n",
        "\n",
        "      elif i == size - 1:\n",
        "        matr[i][j] = p_vec[j]\n",
        "\n",
        "  return matr\n",
        "\n",
        "matr = matr_init(SIZE)\n",
        "correct_sol = np.linalg.solve(matr, f_vec)"
      ]
    },
    {
      "cell_type": "markdown",
      "metadata": {
        "id": "Uc4dMdiW3zlW"
      },
      "source": [
        "# Расчет числа обусловленностей по формуле:\n",
        "\n",
        "$$\n",
        "\\mu = \\|A^{-1}\\| \\cdot \\|A\\| \n",
        "$$"
      ]
    },
    {
      "cell_type": "code",
      "execution_count": 21,
      "metadata": {
        "colab": {
          "base_uri": "https://localhost:8080/"
        },
        "id": "D893q9sD2uks",
        "outputId": "b66cf205-abee-4a3a-9f6e-d764cb1220cf"
      },
      "outputs": [
        {
          "name": "stdout",
          "output_type": "stream",
          "text": [
            "mu_1 = 56.53747551306663\n",
            "mu_2 = 559.2087436671238\n",
            "mu_3 = 63.08785084481214\n"
          ]
        }
      ],
      "source": [
        "def mu_calc(norma, matr):\n",
        "  inv_matr = np.linalg.inv(matr)\n",
        "  return norma(matr) * norma(inv_matr)\n",
        "\n",
        "for ind, norm_it in enumerate(matr_norm_list):\n",
        "  print(f\"mu_{ind + 1} = {mu_calc(norm_it, matr)}\")"
      ]
    },
    {
      "cell_type": "markdown",
      "metadata": {
        "id": "yy5lcoLk37eC"
      },
      "source": [
        "# **Реализация метода Гаусса решения СЛАУ**\n",
        "- ```gauss_solve_pivot(matr, size)``` - функция оболочка для прямого и обратного хода Гаусса\n",
        "\n",
        "- ```gauss_pivot_transform(matr, size)``` - реализация алгоритма прямого хода Гаусса с выбором главного элемента\n",
        "\n",
        "- ```solve_it(matr, size)``` - реализация алгоритма обратного хода Гаусса для получения решения СЛАУ"
      ]
    },
    {
      "cell_type": "code",
      "execution_count": 22,
      "metadata": {
        "id": "tpkXs_VhIjqE"
      },
      "outputs": [],
      "source": [
        "def gauss_solve_pivot(matr):\n",
        "  return (solve_it(gauss_pivot_transform(matr, SIZE), SIZE))\n",
        "\n",
        "def gauss_pivot_transform(matr, size):\n",
        "\n",
        "    for nrow in range(SIZE):\n",
        "        pivot = nrow + np.argmax(abs(matr[nrow:, nrow]))\n",
        "\n",
        "        if pivot != nrow:\n",
        "            matr[[nrow, pivot]] = matr[[pivot, nrow]]\n",
        "\n",
        "        row = matr[nrow]\n",
        "        divisor = row[nrow]\n",
        "\n",
        "        if is_zero(abs(divisor)):\n",
        "            raise ValueError(\"Invalid matrix\")\n",
        "\n",
        "        row /= divisor\n",
        "\n",
        "        for lower_row in matr[nrow+1:]:\n",
        "            factor = lower_row[nrow]\n",
        "            lower_row -= factor*row\n",
        "    \n",
        "    return matr\n",
        "\n",
        "def solve_it(matr, size):\n",
        "  \n",
        "    solution = [list for _ in range(size)]\n",
        "    prev_ind = 0\n",
        "\n",
        "    for i in range(size):\n",
        "\n",
        "      cur_ind = size - 1 - i\n",
        "    \n",
        "      diag_elem = matr[cur_ind][cur_ind]\n",
        "      solution[cur_ind] = matr[cur_ind][size] / diag_elem\n",
        "      \n",
        "      if (i > 0):\n",
        "        solution[cur_ind] -= (matr[cur_ind][prev_ind] * (solution[prev_ind])) / diag_elem\n",
        "\n",
        "      prev_ind = cur_ind\n",
        "      \n",
        "    return solution           \n",
        " "
      ]
    },
    {
      "cell_type": "markdown",
      "metadata": {
        "id": "F4bp94nNourS"
      },
      "source": [
        "# **Решение СЛАУ алгоритмом Гаусса**\n"
      ]
    },
    {
      "cell_type": "code",
      "execution_count": 34,
      "metadata": {
        "colab": {
          "base_uri": "https://localhost:8080/"
        },
        "id": "HUYVisukoXNq",
        "outputId": "7b1eaa77-fb6d-4ae2-f922-3365314c9417"
      },
      "outputs": [
        {
          "name": "stdout",
          "output_type": "stream",
          "text": [
            "Решение методом Гаусса:\n",
            "[-7.93799218e-05  7.93799218e-04  1.44859862e-03  2.02503751e-03\n",
            "  2.52894404e-03  2.97378631e-03  3.36931185e-03  3.72328469e-03\n",
            "  4.04191917e-03  4.33025097e-03  4.59240328e-03  4.83178438e-03\n",
            "  5.05123594e-03  5.25314605e-03  5.43953611e-03  5.61212860e-03\n",
            "  5.77240032e-03  5.92162466e-03  6.06090546e-03  6.19120427e-03\n",
            "  6.31336259e-03  6.42812001e-03  6.53612919e-03  6.63796824e-03\n",
            "  6.73415112e-03  6.82513622e-03  6.91133374e-03  6.99311182e-03\n",
            "  7.07080180e-03  7.14470272e-03  7.21508515e-03  7.28219449e-03\n",
            "  7.34625386e-03  7.40746654e-03  7.46601815e-03  7.52207849e-03\n",
            "  7.57580326e-03  7.62733540e-03  7.67680647e-03  7.72433768e-03\n",
            "  7.77004093e-03  7.81401968e-03  7.85636971e-03  7.89717985e-03\n",
            "  7.93653259e-03  7.97450463e-03  8.01116737e-03  8.04658738e-03\n",
            "  8.08082679e-03  8.11394366e-03  8.14599230e-03  8.17702357e-03\n",
            "  8.20708516e-03  8.23622182e-03  8.26447559e-03  8.29188600e-03\n",
            "  8.31849025e-03  8.34432339e-03  8.36941847e-03  8.39380667e-03\n",
            "  8.41751744e-03  8.44057862e-03  8.46301655e-03  8.48485615e-03\n",
            "  8.50612104e-03  8.52683361e-03  8.54701510e-03  8.56668568e-03\n",
            "  8.58586451e-03  8.60456979e-03  8.62281886e-03  8.64062821e-03\n",
            "  8.65801353e-03  8.67498979e-03  8.69157126e-03  8.70777156e-03\n",
            "  8.72360368e-03  8.73908002e-03  8.75421245e-03  8.76901230e-03\n",
            "  8.78349043e-03  8.79765720e-03  8.81152256e-03  8.82509601e-03\n",
            "  8.83838669e-03  8.85140334e-03  8.86415435e-03  8.87664776e-03\n",
            "  8.88889131e-03  8.90089242e-03  8.91265821e-03  8.92419554e-03\n",
            "  8.93551101e-03  8.94661094e-03  8.95750146e-03  8.96818655e-03\n",
            "  8.97887090e-03  8.96846792e-03  1.11930415e-02 -2.27917961e-01]\n"
          ]
        }
      ],
      "source": [
        "print(\"Решение методом Гаусса:\")\n",
        "\n",
        "matr = np.column_stack((matr, f_vec.T))\n",
        "gauss_sol = gauss_solve_pivot(matr)\n",
        "\n",
        "print(np.array(gauss_sol))"
      ]
    },
    {
      "cell_type": "markdown",
      "metadata": {
        "id": "HSeVYTP_0H3e"
      },
      "source": [
        "### Разность векторов метода Гаусса и решения от ```np.linalg.solve(matr, f_vec)```"
      ]
    },
    {
      "cell_type": "code",
      "execution_count": 33,
      "metadata": {
        "colab": {
          "base_uri": "https://localhost:8080/"
        },
        "id": "718YSAFV0UmG",
        "outputId": "fca45782-3d5f-40b1-d84d-8a7bec85cf2a"
      },
      "outputs": [
        {
          "name": "stdout",
          "output_type": "stream",
          "text": [
            "[ 0.00000000e+00  0.00000000e+00  0.00000000e+00  4.33680869e-19\n",
            "  0.00000000e+00  0.00000000e+00  0.00000000e+00  0.00000000e+00\n",
            "  0.00000000e+00  8.67361738e-19 -8.67361738e-19 -8.67361738e-19\n",
            "  8.67361738e-19  8.67361738e-19 -8.67361738e-19  0.00000000e+00\n",
            "  8.67361738e-19  0.00000000e+00  0.00000000e+00  0.00000000e+00\n",
            "  0.00000000e+00  0.00000000e+00  8.67361738e-19 -8.67361738e-19\n",
            "  0.00000000e+00  8.67361738e-19  0.00000000e+00  8.67361738e-19\n",
            " -8.67361738e-19  8.67361738e-19  0.00000000e+00  0.00000000e+00\n",
            "  0.00000000e+00 -8.67361738e-19  8.67361738e-19 -8.67361738e-19\n",
            "  8.67361738e-19  8.67361738e-19  8.67361738e-19  0.00000000e+00\n",
            "  0.00000000e+00  0.00000000e+00  0.00000000e+00 -1.73472348e-18\n",
            "  0.00000000e+00  0.00000000e+00  0.00000000e+00  0.00000000e+00\n",
            "  0.00000000e+00  0.00000000e+00  0.00000000e+00  0.00000000e+00\n",
            " -1.73472348e-18  0.00000000e+00  0.00000000e+00  0.00000000e+00\n",
            " -1.73472348e-18  0.00000000e+00  0.00000000e+00  0.00000000e+00\n",
            "  0.00000000e+00  0.00000000e+00  1.73472348e-18  0.00000000e+00\n",
            "  0.00000000e+00  0.00000000e+00  0.00000000e+00  0.00000000e+00\n",
            "  0.00000000e+00  0.00000000e+00  0.00000000e+00 -1.73472348e-18\n",
            "  1.73472348e-18  0.00000000e+00 -1.73472348e-18  1.73472348e-18\n",
            " -1.73472348e-18  0.00000000e+00 -1.73472348e-18  0.00000000e+00\n",
            "  0.00000000e+00  0.00000000e+00  0.00000000e+00  0.00000000e+00\n",
            " -1.73472348e-18 -1.73472348e-18 -1.73472348e-18 -1.73472348e-18\n",
            "  0.00000000e+00  1.73472348e-18  0.00000000e+00  0.00000000e+00\n",
            "  0.00000000e+00  0.00000000e+00  1.73472348e-18  0.00000000e+00\n",
            "  0.00000000e+00  0.00000000e+00  0.00000000e+00  5.55111512e-17]\n"
          ]
        }
      ],
      "source": [
        "print(gauss_sol - correct_sol)"
      ]
    },
    {
      "cell_type": "markdown",
      "metadata": {
        "id": "_RhcK7FN0j0b"
      },
      "source": [
        "### Из ячейчки выше видно, что полученное решение хорошо совпадает с решением от ```numpy```"
      ]
    },
    {
      "cell_type": "markdown",
      "metadata": {
        "id": "qWdLHcUPo0_g"
      },
      "source": [
        "# **Расчет невязки для метода Гаусса**"
      ]
    },
    {
      "cell_type": "code",
      "execution_count": 234,
      "metadata": {
        "colab": {
          "base_uri": "https://localhost:8080/"
        },
        "id": "Dy1Mdfvpo0ht",
        "outputId": "3bc97277-3433-4aee-dad6-6700b3508fbd"
      },
      "outputs": [
        {
          "name": "stdout",
          "output_type": "stream",
          "text": [
            "Невязка метода Гаусса по норме 1: 8.881784197001252e-16\n",
            "Невязка метода Гаусса по норме 2: 2.220446049250313e-16\n",
            "Невязка метода Гаусса по норме 3: 1.1032241229313589e-15\n"
          ]
        }
      ],
      "source": [
        "matr = matr_init(SIZE)\n",
        "err_gauss = f_vec - np.matmul(matr, gauss_sol)\n",
        "\n",
        "for ind, norm_it in enumerate(vec_norm_list):\n",
        "  print(f\"Невязка метода Гаусса по норме {ind + 1}:\", norm_it(err_gauss))"
      ]
    },
    {
      "cell_type": "markdown",
      "metadata": {
        "id": "ftaOD1qp4BdQ"
      },
      "source": [
        "\n",
        "# **Реализация метода Зейделя решения СЛУ**\n",
        "```seidel_method_solve(matr, size, norm)``` - реализация итерационного метода Зейделя\n",
        "\n",
        "```get_LDU(matr, size)``` - разложение исходной матрицы на верхнетреугольную, нижнетреугольную, диагональную\n",
        "\n"
      ]
    },
    {
      "cell_type": "code",
      "execution_count": 235,
      "metadata": {
        "id": "ObZZXlhZiphc"
      },
      "outputs": [],
      "source": [
        "def get_LDU(matr, size):\n",
        "\n",
        "  L = np.zeros((size, size))\n",
        "  D = np.zeros((size, size))\n",
        "  U = np.zeros((size, size)) \n",
        "\n",
        "  for i in range(size):\n",
        "    for j in range(size):\n",
        "      if i == j:\n",
        "        D[i][j] = matr[i][j]\n",
        "      elif i > j:\n",
        "        L[i][j] = matr[i][j]\n",
        "      else:\n",
        "        U[i][j] = matr[i][j]\n",
        "  \n",
        "  return L, D, U\n",
        "\n",
        "def seidel_method_solve(matr, size, norm):\n",
        "\n",
        "  greater = True\n",
        "  x = np.zeros(SIZE)\n",
        "\n",
        "  L, D, U = get_LDU(matr, size)\n",
        "\n",
        "  LnD_inv = np.linalg.inv(L + D)\n",
        "  LnD_inv_dotU = np.dot(LnD_inv, U)\n",
        "  iter_num = 0\n",
        "  \n",
        "  while greater:\n",
        "    \n",
        "    iter_num += 1\n",
        "    x_k = -np.dot(LnD_inv_dotU, x)  + np.dot(LnD_inv, f_vec) \n",
        "    greater = norm(x_k - x) > tolerance\n",
        "    x = x_k\n",
        "\n",
        "  return x, iter_num"
      ]
    },
    {
      "cell_type": "markdown",
      "metadata": {
        "id": "Ehd_YV417v-m"
      },
      "source": [
        "# **Решение СЛАУ алгоритмом Зейделя**\n"
      ]
    },
    {
      "cell_type": "code",
      "execution_count": 236,
      "metadata": {
        "colab": {
          "base_uri": "https://localhost:8080/"
        },
        "id": "iA_LaDNI5cE4",
        "outputId": "aa6d398e-112b-456e-dd1e-31f810763db0"
      },
      "outputs": [
        {
          "name": "stdout",
          "output_type": "stream",
          "text": [
            "Решение методом Зейделя:\n",
            "Решение методом Зейделя по норме 1:\n",
            "[-7.80532599e-05  7.94959555e-04  1.44968973e-03  2.02603641e-03\n",
            "  2.52985089e-03  2.97460566e-03  3.37005064e-03  3.72395058e-03\n",
            "  4.04251974e-03  4.33079331e-03  4.59289388e-03  4.83222902e-03\n",
            "  5.05163978e-03  5.25351362e-03  5.43987140e-03  5.61243511e-03\n",
            "  5.77268111e-03  5.92188244e-03  6.06114258e-03  6.19142283e-03\n",
            "  6.31356443e-03  6.42830675e-03  6.53630226e-03  6.63812893e-03\n",
            "  6.73430055e-03  6.82527541e-03  6.91146358e-03  6.99323312e-03\n",
            "  7.07091529e-03  7.14480905e-03  7.21518489e-03  7.28228818e-03\n",
            "  7.34634197e-03  7.40754951e-03  7.46609635e-03  7.52215229e-03\n",
            "  7.57587297e-03  7.62740133e-03  7.67686888e-03  7.72439681e-03\n",
            "  7.77009701e-03  7.81407290e-03  7.85642027e-03  7.89722793e-03\n",
            "  7.93657835e-03  7.97454820e-03  8.01120890e-03  8.04662699e-03\n",
            "  8.08086460e-03  8.11397977e-03  8.14602682e-03  8.17705658e-03\n",
            "  8.20711676e-03  8.23625208e-03  8.26450458e-03  8.29191379e-03\n",
            "  8.31851692e-03  8.34434899e-03  8.36944305e-03  8.39383029e-03\n",
            "  8.41754015e-03  8.44060047e-03  8.46303757e-03  8.48487639e-03\n",
            "  8.50614054e-03  8.52685240e-03  8.54703322e-03  8.56670315e-03\n",
            "  8.58588137e-03  8.60458607e-03  8.62283459e-03  8.64064340e-03\n",
            "  8.65802821e-03  8.67500399e-03  8.69158499e-03  8.70778485e-03\n",
            "  8.72361654e-03  8.73909247e-03  8.75422451e-03  8.76902399e-03\n",
            "  8.78350176e-03  8.79766818e-03  8.81153321e-03  8.82510635e-03\n",
            "  8.83839672e-03  8.85141308e-03  8.86416380e-03  8.87665695e-03\n",
            "  8.88890023e-03  8.90090109e-03  8.91266664e-03  8.92420374e-03\n",
            "  8.93551898e-03  8.94661869e-03  8.95750899e-03  8.96819573e-03\n",
            "  8.97868458e-03  8.96742773e-03  1.11905976e-02 -2.27929955e-01]\n",
            "Сошлось за 3 итераций\n",
            "Невязка метода Зейделя по норме 1: 1.1994739240683838e-05\n",
            "Решение методом Зейделя по норме 2:\n",
            "[-7.80532599e-05  7.94959555e-04  1.44968973e-03  2.02603641e-03\n",
            "  2.52985089e-03  2.97460566e-03  3.37005064e-03  3.72395058e-03\n",
            "  4.04251974e-03  4.33079331e-03  4.59289388e-03  4.83222902e-03\n",
            "  5.05163978e-03  5.25351362e-03  5.43987140e-03  5.61243511e-03\n",
            "  5.77268111e-03  5.92188244e-03  6.06114258e-03  6.19142283e-03\n",
            "  6.31356443e-03  6.42830675e-03  6.53630226e-03  6.63812893e-03\n",
            "  6.73430055e-03  6.82527541e-03  6.91146358e-03  6.99323312e-03\n",
            "  7.07091529e-03  7.14480905e-03  7.21518489e-03  7.28228818e-03\n",
            "  7.34634197e-03  7.40754951e-03  7.46609635e-03  7.52215229e-03\n",
            "  7.57587297e-03  7.62740133e-03  7.67686888e-03  7.72439681e-03\n",
            "  7.77009701e-03  7.81407290e-03  7.85642027e-03  7.89722793e-03\n",
            "  7.93657835e-03  7.97454820e-03  8.01120890e-03  8.04662699e-03\n",
            "  8.08086460e-03  8.11397977e-03  8.14602682e-03  8.17705658e-03\n",
            "  8.20711676e-03  8.23625208e-03  8.26450458e-03  8.29191379e-03\n",
            "  8.31851692e-03  8.34434899e-03  8.36944305e-03  8.39383029e-03\n",
            "  8.41754015e-03  8.44060047e-03  8.46303757e-03  8.48487639e-03\n",
            "  8.50614054e-03  8.52685240e-03  8.54703322e-03  8.56670315e-03\n",
            "  8.58588137e-03  8.60458607e-03  8.62283459e-03  8.64064340e-03\n",
            "  8.65802821e-03  8.67500399e-03  8.69158499e-03  8.70778485e-03\n",
            "  8.72361654e-03  8.73909247e-03  8.75422451e-03  8.76902399e-03\n",
            "  8.78350176e-03  8.79766818e-03  8.81153321e-03  8.82510635e-03\n",
            "  8.83839672e-03  8.85141308e-03  8.86416380e-03  8.87665695e-03\n",
            "  8.88890023e-03  8.90090109e-03  8.91266664e-03  8.92420374e-03\n",
            "  8.93551898e-03  8.94661869e-03  8.95750899e-03  8.96819573e-03\n",
            "  8.97868458e-03  8.96742773e-03  1.11905976e-02 -2.27929955e-01]\n",
            "Сошлось за 3 итераций\n",
            "Невязка метода Зейделя по норме 2: 1.3266619473166426e-06\n",
            "Решение методом Зейделя по норме 3:\n",
            "[-7.80532599e-05  7.94959555e-04  1.44968973e-03  2.02603641e-03\n",
            "  2.52985089e-03  2.97460566e-03  3.37005064e-03  3.72395058e-03\n",
            "  4.04251974e-03  4.33079331e-03  4.59289388e-03  4.83222902e-03\n",
            "  5.05163978e-03  5.25351362e-03  5.43987140e-03  5.61243511e-03\n",
            "  5.77268111e-03  5.92188244e-03  6.06114258e-03  6.19142283e-03\n",
            "  6.31356443e-03  6.42830675e-03  6.53630226e-03  6.63812893e-03\n",
            "  6.73430055e-03  6.82527541e-03  6.91146358e-03  6.99323312e-03\n",
            "  7.07091529e-03  7.14480905e-03  7.21518489e-03  7.28228818e-03\n",
            "  7.34634197e-03  7.40754951e-03  7.46609635e-03  7.52215229e-03\n",
            "  7.57587297e-03  7.62740133e-03  7.67686888e-03  7.72439681e-03\n",
            "  7.77009701e-03  7.81407290e-03  7.85642027e-03  7.89722793e-03\n",
            "  7.93657835e-03  7.97454820e-03  8.01120890e-03  8.04662699e-03\n",
            "  8.08086460e-03  8.11397977e-03  8.14602682e-03  8.17705658e-03\n",
            "  8.20711676e-03  8.23625208e-03  8.26450458e-03  8.29191379e-03\n",
            "  8.31851692e-03  8.34434899e-03  8.36944305e-03  8.39383029e-03\n",
            "  8.41754015e-03  8.44060047e-03  8.46303757e-03  8.48487639e-03\n",
            "  8.50614054e-03  8.52685240e-03  8.54703322e-03  8.56670315e-03\n",
            "  8.58588137e-03  8.60458607e-03  8.62283459e-03  8.64064340e-03\n",
            "  8.65802821e-03  8.67500399e-03  8.69158499e-03  8.70778485e-03\n",
            "  8.72361654e-03  8.73909247e-03  8.75422451e-03  8.76902399e-03\n",
            "  8.78350176e-03  8.79766818e-03  8.81153321e-03  8.82510635e-03\n",
            "  8.83839672e-03  8.85141308e-03  8.86416380e-03  8.87665695e-03\n",
            "  8.88890023e-03  8.90090109e-03  8.91266664e-03  8.92420374e-03\n",
            "  8.93551898e-03  8.94661869e-03  8.95750899e-03  8.96819573e-03\n",
            "  8.97868458e-03  8.96742773e-03  1.11905976e-02 -2.27929955e-01]\n",
            "Сошлось за 3 итераций\n",
            "Невязка метода Зейделя по норме 3: 1.2685204667037241e-05\n"
          ]
        }
      ],
      "source": [
        "matr = matr_init(SIZE)\n",
        "\n",
        "print(\"Решение методом Зейделя:\")\n",
        "\n",
        "for ind, norm_it in enumerate(vec_norm_list):\n",
        "  z_sol, iter_num = seidel_method_solve(matr, SIZE, norm_it)\n",
        "  print(f\"Решение методом Зейделя по норме {ind + 1}:\")\n",
        "  print(z_sol)\n",
        "  print(f\"Сошлось за {iter_num} итераций\")\n",
        "  print(f\"Невязка метода Зейделя по норме {ind + 1}:\", norm_it(z_sol - cor_sol))"
      ]
    },
    {
      "cell_type": "markdown",
      "metadata": {
        "id": "hVIyDuTg01be"
      },
      "source": [
        "### Результаты метода Зейделя в сравнении с Гауссом и библиотечным от ```numpy``` так же говорят о корректности реализации"
      ]
    }
  ],
  "metadata": {
    "colab": {
      "collapsed_sections": [],
      "name": "lab2.ipynb",
      "provenance": []
    },
    "kernelspec": {
      "display_name": "Python 3",
      "name": "python3"
    },
    "language_info": {
      "codemirror_mode": {
        "name": "ipython",
        "version": 3
      },
      "file_extension": ".py",
      "mimetype": "text/x-python",
      "name": "python",
      "nbconvert_exporter": "python",
      "pygments_lexer": "ipython3",
      "version": "3.8.10"
    }
  },
  "nbformat": 4,
  "nbformat_minor": 0
}
